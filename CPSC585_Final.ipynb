{
  "nbformat": 4,
  "nbformat_minor": 0,
  "metadata": {
    "colab": {
      "provenance": []
    },
    "kernelspec": {
      "name": "python3",
      "display_name": "Python 3"
    },
    "language_info": {
      "name": "python"
    }
  },
  "cells": [
    {
      "cell_type": "markdown",
      "source": [
        "Import necessary libraries"
      ],
      "metadata": {
        "id": "5A62v2g_0zaX"
      }
    },
    {
      "cell_type": "code",
      "execution_count": null,
      "metadata": {
        "id": "m6gzB0X3KArL"
      },
      "outputs": [],
      "source": [
        "import numpy as np\n",
        "import tensorflow as tf\n",
        "import matplotlib.pyplot as plt\n",
        "import pandas as pd\n",
        "from keras import regularizers\n",
        "from tensorflow import keras\n",
        "from keras.layers import Dropout\n",
        "from sklearn.model_selection import train_test_split\n",
        "from tensorflow.keras.layers import Embedding, LSTM, GRU, Dense, Input, concatenate\n",
        "from tensorflow.keras.models import Model\n",
        "from tensorflow.keras.utils import to_categorical\n",
        "from keras.preprocessing.text import Tokenizer\n",
        "import nltk\n",
        "from nltk.corpus import stopwords\n",
        "import string\n",
        "from google.colab import drive\n",
        "import math\n",
        "import re # module to remove non-alphanumeric chars"
      ]
    },
    {
      "cell_type": "markdown",
      "source": [
        "Load and view data"
      ],
      "metadata": {
        "id": "aBi83Z2F0_Tw"
      }
    },
    {
      "cell_type": "code",
      "source": [
        "# Load data\n",
        "#drive.mount('/content/drive')\n",
        "\n",
        "#df = pd.read_csv(\"./drive/MyDrive/Datasets/RateMyProfessor_Sample_data.csv\")\n",
        "\n",
        "#print(df.head(3))"
      ],
      "metadata": {
        "colab": {
          "base_uri": "https://localhost:8080/",
          "height": 371
        },
        "id": "Ri2On41XK82i",
        "outputId": "83f37710-8546-4440-d225-91797727f2a5"
      },
      "execution_count": null,
      "outputs": [
        {
          "output_type": "error",
          "ename": "MessageError",
          "evalue": "ignored",
          "traceback": [
            "\u001b[0;31m---------------------------------------------------------------------------\u001b[0m",
            "\u001b[0;31mMessageError\u001b[0m                              Traceback (most recent call last)",
            "\u001b[0;32m<ipython-input-2-7bd3010def62>\u001b[0m in \u001b[0;36m<cell line: 2>\u001b[0;34m()\u001b[0m\n\u001b[1;32m      1\u001b[0m \u001b[0;31m# Load data\u001b[0m\u001b[0;34m\u001b[0m\u001b[0;34m\u001b[0m\u001b[0m\n\u001b[0;32m----> 2\u001b[0;31m \u001b[0mdrive\u001b[0m\u001b[0;34m.\u001b[0m\u001b[0mmount\u001b[0m\u001b[0;34m(\u001b[0m\u001b[0;34m'/content/drive'\u001b[0m\u001b[0;34m)\u001b[0m\u001b[0;34m\u001b[0m\u001b[0;34m\u001b[0m\u001b[0m\n\u001b[0m\u001b[1;32m      3\u001b[0m \u001b[0mdf\u001b[0m \u001b[0;34m=\u001b[0m \u001b[0mpd\u001b[0m\u001b[0;34m.\u001b[0m\u001b[0mread_csv\u001b[0m\u001b[0;34m(\u001b[0m\u001b[0;34m\"./drive/MyDrive/Datasets/RateMyProfessor_Sample_data.csv\"\u001b[0m\u001b[0;34m)\u001b[0m\u001b[0;34m\u001b[0m\u001b[0;34m\u001b[0m\u001b[0m\n\u001b[1;32m      4\u001b[0m \u001b[0mprint\u001b[0m\u001b[0;34m(\u001b[0m\u001b[0mdf\u001b[0m\u001b[0;34m.\u001b[0m\u001b[0mhead\u001b[0m\u001b[0;34m(\u001b[0m\u001b[0;36m3\u001b[0m\u001b[0;34m)\u001b[0m\u001b[0;34m)\u001b[0m\u001b[0;34m\u001b[0m\u001b[0;34m\u001b[0m\u001b[0m\n",
            "\u001b[0;32m/usr/local/lib/python3.10/dist-packages/google/colab/drive.py\u001b[0m in \u001b[0;36mmount\u001b[0;34m(mountpoint, force_remount, timeout_ms, readonly)\u001b[0m\n\u001b[1;32m    101\u001b[0m \u001b[0;32mdef\u001b[0m \u001b[0mmount\u001b[0m\u001b[0;34m(\u001b[0m\u001b[0mmountpoint\u001b[0m\u001b[0;34m,\u001b[0m \u001b[0mforce_remount\u001b[0m\u001b[0;34m=\u001b[0m\u001b[0;32mFalse\u001b[0m\u001b[0;34m,\u001b[0m \u001b[0mtimeout_ms\u001b[0m\u001b[0;34m=\u001b[0m\u001b[0;36m120000\u001b[0m\u001b[0;34m,\u001b[0m \u001b[0mreadonly\u001b[0m\u001b[0;34m=\u001b[0m\u001b[0;32mFalse\u001b[0m\u001b[0;34m)\u001b[0m\u001b[0;34m:\u001b[0m\u001b[0;34m\u001b[0m\u001b[0;34m\u001b[0m\u001b[0m\n\u001b[1;32m    102\u001b[0m   \u001b[0;34m\"\"\"Mount your Google Drive at the specified mountpoint path.\"\"\"\u001b[0m\u001b[0;34m\u001b[0m\u001b[0;34m\u001b[0m\u001b[0m\n\u001b[0;32m--> 103\u001b[0;31m   return _mount(\n\u001b[0m\u001b[1;32m    104\u001b[0m       \u001b[0mmountpoint\u001b[0m\u001b[0;34m,\u001b[0m\u001b[0;34m\u001b[0m\u001b[0;34m\u001b[0m\u001b[0m\n\u001b[1;32m    105\u001b[0m       \u001b[0mforce_remount\u001b[0m\u001b[0;34m=\u001b[0m\u001b[0mforce_remount\u001b[0m\u001b[0;34m,\u001b[0m\u001b[0;34m\u001b[0m\u001b[0;34m\u001b[0m\u001b[0m\n",
            "\u001b[0;32m/usr/local/lib/python3.10/dist-packages/google/colab/drive.py\u001b[0m in \u001b[0;36m_mount\u001b[0;34m(mountpoint, force_remount, timeout_ms, ephemeral, readonly)\u001b[0m\n\u001b[1;32m    130\u001b[0m   )\n\u001b[1;32m    131\u001b[0m   \u001b[0;32mif\u001b[0m \u001b[0mephemeral\u001b[0m\u001b[0;34m:\u001b[0m\u001b[0;34m\u001b[0m\u001b[0;34m\u001b[0m\u001b[0m\n\u001b[0;32m--> 132\u001b[0;31m     _message.blocking_request(\n\u001b[0m\u001b[1;32m    133\u001b[0m         \u001b[0;34m'request_auth'\u001b[0m\u001b[0;34m,\u001b[0m \u001b[0mrequest\u001b[0m\u001b[0;34m=\u001b[0m\u001b[0;34m{\u001b[0m\u001b[0;34m'authType'\u001b[0m\u001b[0;34m:\u001b[0m \u001b[0;34m'dfs_ephemeral'\u001b[0m\u001b[0;34m}\u001b[0m\u001b[0;34m,\u001b[0m \u001b[0mtimeout_sec\u001b[0m\u001b[0;34m=\u001b[0m\u001b[0;32mNone\u001b[0m\u001b[0;34m\u001b[0m\u001b[0;34m\u001b[0m\u001b[0m\n\u001b[1;32m    134\u001b[0m     )\n",
            "\u001b[0;32m/usr/local/lib/python3.10/dist-packages/google/colab/_message.py\u001b[0m in \u001b[0;36mblocking_request\u001b[0;34m(request_type, request, timeout_sec, parent)\u001b[0m\n\u001b[1;32m    174\u001b[0m       \u001b[0mrequest_type\u001b[0m\u001b[0;34m,\u001b[0m \u001b[0mrequest\u001b[0m\u001b[0;34m,\u001b[0m \u001b[0mparent\u001b[0m\u001b[0;34m=\u001b[0m\u001b[0mparent\u001b[0m\u001b[0;34m,\u001b[0m \u001b[0mexpect_reply\u001b[0m\u001b[0;34m=\u001b[0m\u001b[0;32mTrue\u001b[0m\u001b[0;34m\u001b[0m\u001b[0;34m\u001b[0m\u001b[0m\n\u001b[1;32m    175\u001b[0m   )\n\u001b[0;32m--> 176\u001b[0;31m   \u001b[0;32mreturn\u001b[0m \u001b[0mread_reply_from_input\u001b[0m\u001b[0;34m(\u001b[0m\u001b[0mrequest_id\u001b[0m\u001b[0;34m,\u001b[0m \u001b[0mtimeout_sec\u001b[0m\u001b[0;34m)\u001b[0m\u001b[0;34m\u001b[0m\u001b[0;34m\u001b[0m\u001b[0m\n\u001b[0m",
            "\u001b[0;32m/usr/local/lib/python3.10/dist-packages/google/colab/_message.py\u001b[0m in \u001b[0;36mread_reply_from_input\u001b[0;34m(message_id, timeout_sec)\u001b[0m\n\u001b[1;32m    101\u001b[0m     ):\n\u001b[1;32m    102\u001b[0m       \u001b[0;32mif\u001b[0m \u001b[0;34m'error'\u001b[0m \u001b[0;32min\u001b[0m \u001b[0mreply\u001b[0m\u001b[0;34m:\u001b[0m\u001b[0;34m\u001b[0m\u001b[0;34m\u001b[0m\u001b[0m\n\u001b[0;32m--> 103\u001b[0;31m         \u001b[0;32mraise\u001b[0m \u001b[0mMessageError\u001b[0m\u001b[0;34m(\u001b[0m\u001b[0mreply\u001b[0m\u001b[0;34m[\u001b[0m\u001b[0;34m'error'\u001b[0m\u001b[0;34m]\u001b[0m\u001b[0;34m)\u001b[0m\u001b[0;34m\u001b[0m\u001b[0;34m\u001b[0m\u001b[0m\n\u001b[0m\u001b[1;32m    104\u001b[0m       \u001b[0;32mreturn\u001b[0m \u001b[0mreply\u001b[0m\u001b[0;34m.\u001b[0m\u001b[0mget\u001b[0m\u001b[0;34m(\u001b[0m\u001b[0;34m'data'\u001b[0m\u001b[0;34m,\u001b[0m \u001b[0;32mNone\u001b[0m\u001b[0;34m)\u001b[0m\u001b[0;34m\u001b[0m\u001b[0;34m\u001b[0m\u001b[0m\n\u001b[1;32m    105\u001b[0m \u001b[0;34m\u001b[0m\u001b[0m\n",
            "\u001b[0;31mMessageError\u001b[0m: Error: credential propagation was unsuccessful"
          ]
        }
      ]
    },
    {
      "cell_type": "code",
      "source": [
        "# data loading\n",
        "df=pd.read_csv('RateMyProfessor_Sample data.csv')\n",
        "df.info()"
      ],
      "metadata": {
        "colab": {
          "base_uri": "https://localhost:8080/"
        },
        "id": "e-ogtf6RqBSG",
        "outputId": "102684fb-aeb5-4b82-bdd9-3d5e03d5b0a6"
      },
      "execution_count": null,
      "outputs": [
        {
          "output_type": "stream",
          "name": "stdout",
          "text": [
            "<class 'pandas.core.frame.DataFrame'>\n",
            "RangeIndex: 20000 entries, 0 to 19999\n",
            "Data columns (total 51 columns):\n",
            " #   Column                    Non-Null Count  Dtype  \n",
            "---  ------                    --------------  -----  \n",
            " 0   professor_name            20000 non-null  object \n",
            " 1   school_name               20000 non-null  object \n",
            " 2   department_name           20000 non-null  object \n",
            " 3   local_name                20000 non-null  object \n",
            " 4   state_name                20000 non-null  object \n",
            " 5   year_since_first_review   20000 non-null  float64\n",
            " 6   star_rating               20000 non-null  float64\n",
            " 7   take_again                2998 non-null   object \n",
            " 8   diff_index                20000 non-null  float64\n",
            " 9   tag_professor             11093 non-null  object \n",
            " 10  num_student               20000 non-null  float64\n",
            " 11  post_date                 19995 non-null  object \n",
            " 12  name_onlines              20000 non-null  object \n",
            " 13  name_not_onlines          19995 non-null  object \n",
            " 14  student_star              19995 non-null  float64\n",
            " 15  student_difficult         19995 non-null  float64\n",
            " 16  attence                   4009 non-null   object \n",
            " 17  for_credits               4053 non-null   object \n",
            " 18  would_take_agains         2582 non-null   object \n",
            " 19  grades                    3292 non-null   object \n",
            " 20  help_useful               20000 non-null  float64\n",
            " 21  help_not_useful           20000 non-null  float64\n",
            " 22  comments                  19993 non-null  object \n",
            " 23  word_comment              19993 non-null  float64\n",
            " 24  gender                    20000 non-null  object \n",
            " 25  race                      20000 non-null  object \n",
            " 26  asian                     20000 non-null  float64\n",
            " 27  hispanic                  20000 non-null  float64\n",
            " 28  nh_black                  20000 non-null  float64\n",
            " 29  nh_white                  20000 non-null  float64\n",
            " 30  gives_good_feedback       20000 non-null  int64  \n",
            " 31  caring                    20000 non-null  int64  \n",
            " 32  respected                 20000 non-null  int64  \n",
            " 33  participation_matters     20000 non-null  int64  \n",
            " 34  clear_grading_criteria    20000 non-null  int64  \n",
            " 35  skip_class                20000 non-null  int64  \n",
            " 36  amazing_lectures          20000 non-null  int64  \n",
            " 37  inspirational             20000 non-null  int64  \n",
            " 38  tough_grader              20000 non-null  int64  \n",
            " 39  hilarious                 20000 non-null  int64  \n",
            " 40  get_ready_to_read         20000 non-null  int64  \n",
            " 41  lots_of_homework          20000 non-null  int64  \n",
            " 42  accessible_outside_class  20000 non-null  int64  \n",
            " 43  lecture_heavy             20000 non-null  int64  \n",
            " 44  extra_credit              20000 non-null  int64  \n",
            " 45  graded_by_few_things      20000 non-null  int64  \n",
            " 46  group_projects            20000 non-null  int64  \n",
            " 47  test_heavy                20000 non-null  int64  \n",
            " 48  so_many_papers            20000 non-null  int64  \n",
            " 49  beware_of_pop_quizzes     20000 non-null  int64  \n",
            " 50  IsCourseOnline            20000 non-null  int64  \n",
            "dtypes: float64(13), int64(21), object(17)\n",
            "memory usage: 7.8+ MB\n"
          ]
        }
      ]
    },
    {
      "cell_type": "code",
      "source": [
        "df.info()"
      ],
      "metadata": {
        "id": "qadTiIOONGMX",
        "colab": {
          "base_uri": "https://localhost:8080/"
        },
        "outputId": "d87453b2-ae25-4c9d-c4dc-1365a8e5d655"
      },
      "execution_count": null,
      "outputs": [
        {
          "output_type": "stream",
          "name": "stdout",
          "text": [
            "<class 'pandas.core.frame.DataFrame'>\n",
            "RangeIndex: 20000 entries, 0 to 19999\n",
            "Data columns (total 51 columns):\n",
            " #   Column                    Non-Null Count  Dtype  \n",
            "---  ------                    --------------  -----  \n",
            " 0   professor_name            20000 non-null  object \n",
            " 1   school_name               20000 non-null  object \n",
            " 2   department_name           20000 non-null  object \n",
            " 3   local_name                20000 non-null  object \n",
            " 4   state_name                20000 non-null  object \n",
            " 5   year_since_first_review   20000 non-null  float64\n",
            " 6   star_rating               20000 non-null  float64\n",
            " 7   take_again                2998 non-null   object \n",
            " 8   diff_index                20000 non-null  float64\n",
            " 9   tag_professor             11093 non-null  object \n",
            " 10  num_student               20000 non-null  float64\n",
            " 11  post_date                 19995 non-null  object \n",
            " 12  name_onlines              20000 non-null  object \n",
            " 13  name_not_onlines          19995 non-null  object \n",
            " 14  student_star              19995 non-null  float64\n",
            " 15  student_difficult         19995 non-null  float64\n",
            " 16  attence                   4009 non-null   object \n",
            " 17  for_credits               4053 non-null   object \n",
            " 18  would_take_agains         2582 non-null   object \n",
            " 19  grades                    3292 non-null   object \n",
            " 20  help_useful               20000 non-null  float64\n",
            " 21  help_not_useful           20000 non-null  float64\n",
            " 22  comments                  19993 non-null  object \n",
            " 23  word_comment              19993 non-null  float64\n",
            " 24  gender                    20000 non-null  object \n",
            " 25  race                      20000 non-null  object \n",
            " 26  asian                     20000 non-null  float64\n",
            " 27  hispanic                  20000 non-null  float64\n",
            " 28  nh_black                  20000 non-null  float64\n",
            " 29  nh_white                  20000 non-null  float64\n",
            " 30  gives_good_feedback       20000 non-null  int64  \n",
            " 31  caring                    20000 non-null  int64  \n",
            " 32  respected                 20000 non-null  int64  \n",
            " 33  participation_matters     20000 non-null  int64  \n",
            " 34  clear_grading_criteria    20000 non-null  int64  \n",
            " 35  skip_class                20000 non-null  int64  \n",
            " 36  amazing_lectures          20000 non-null  int64  \n",
            " 37  inspirational             20000 non-null  int64  \n",
            " 38  tough_grader              20000 non-null  int64  \n",
            " 39  hilarious                 20000 non-null  int64  \n",
            " 40  get_ready_to_read         20000 non-null  int64  \n",
            " 41  lots_of_homework          20000 non-null  int64  \n",
            " 42  accessible_outside_class  20000 non-null  int64  \n",
            " 43  lecture_heavy             20000 non-null  int64  \n",
            " 44  extra_credit              20000 non-null  int64  \n",
            " 45  graded_by_few_things      20000 non-null  int64  \n",
            " 46  group_projects            20000 non-null  int64  \n",
            " 47  test_heavy                20000 non-null  int64  \n",
            " 48  so_many_papers            20000 non-null  int64  \n",
            " 49  beware_of_pop_quizzes     20000 non-null  int64  \n",
            " 50  IsCourseOnline            20000 non-null  int64  \n",
            "dtypes: float64(13), int64(21), object(17)\n",
            "memory usage: 7.8+ MB\n"
          ]
        }
      ]
    },
    {
      "cell_type": "code",
      "source": [
        "# Check types of the features\n",
        "df.dtypes"
      ],
      "metadata": {
        "id": "ueeNjTyq3HpC",
        "colab": {
          "base_uri": "https://localhost:8080/"
        },
        "outputId": "529c85d1-13e3-4358-f98e-37bc4ed7da0a"
      },
      "execution_count": null,
      "outputs": [
        {
          "output_type": "execute_result",
          "data": {
            "text/plain": [
              "professor_name               object\n",
              "school_name                  object\n",
              "department_name              object\n",
              "local_name                   object\n",
              "state_name                   object\n",
              "year_since_first_review     float64\n",
              "star_rating                 float64\n",
              "take_again                   object\n",
              "diff_index                  float64\n",
              "tag_professor                object\n",
              "num_student                 float64\n",
              "post_date                    object\n",
              "name_onlines                 object\n",
              "name_not_onlines             object\n",
              "student_star                float64\n",
              "student_difficult           float64\n",
              "attence                      object\n",
              "for_credits                  object\n",
              "would_take_agains            object\n",
              "grades                       object\n",
              "help_useful                 float64\n",
              "help_not_useful             float64\n",
              "comments                     object\n",
              "word_comment                float64\n",
              "gender                       object\n",
              "race                         object\n",
              "asian                       float64\n",
              "hispanic                    float64\n",
              "nh_black                    float64\n",
              "nh_white                    float64\n",
              "gives_good_feedback           int64\n",
              "caring                        int64\n",
              "respected                     int64\n",
              "participation_matters         int64\n",
              "clear_grading_criteria        int64\n",
              "skip_class                    int64\n",
              "amazing_lectures              int64\n",
              "inspirational                 int64\n",
              "tough_grader                  int64\n",
              "hilarious                     int64\n",
              "get_ready_to_read             int64\n",
              "lots_of_homework              int64\n",
              "accessible_outside_class      int64\n",
              "lecture_heavy                 int64\n",
              "extra_credit                  int64\n",
              "graded_by_few_things          int64\n",
              "group_projects                int64\n",
              "test_heavy                    int64\n",
              "so_many_papers                int64\n",
              "beware_of_pop_quizzes         int64\n",
              "IsCourseOnline                int64\n",
              "dtype: object"
            ]
          },
          "metadata": {},
          "execution_count": 4
        }
      ]
    },
    {
      "cell_type": "markdown",
      "source": [
        "Extract data and pre-process"
      ],
      "metadata": {
        "id": "7Syn6eCrOyd1"
      }
    },
    {
      "cell_type": "code",
      "source": [
        "# Extract comments and the 2 labels\n",
        "df = df.iloc[:, [22, 14, 15]]\n",
        "df.head(3)"
      ],
      "metadata": {
        "id": "dWKJU7g_6chg",
        "colab": {
          "base_uri": "https://localhost:8080/",
          "height": 143
        },
        "outputId": "a702542c-480e-4314-ccd3-7146874bd8a1"
      },
      "execution_count": null,
      "outputs": [
        {
          "output_type": "execute_result",
          "data": {
            "text/plain": [
              "                                            comments  student_star  \\\n",
              "0  This class is hard, but its a two-in-one gen-e...           5.0   \n",
              "1  Definitely going to choose Prof. Looney\\'s cla...           5.0   \n",
              "2  I overall enjoyed this class because the assig...           4.0   \n",
              "\n",
              "   student_difficult  \n",
              "0                3.0  \n",
              "1                2.0  \n",
              "2                3.0  "
            ],
            "text/html": [
              "\n",
              "  <div id=\"df-0e2392cb-3f26-4228-85ef-f99aa5ab9113\">\n",
              "    <div class=\"colab-df-container\">\n",
              "      <div>\n",
              "<style scoped>\n",
              "    .dataframe tbody tr th:only-of-type {\n",
              "        vertical-align: middle;\n",
              "    }\n",
              "\n",
              "    .dataframe tbody tr th {\n",
              "        vertical-align: top;\n",
              "    }\n",
              "\n",
              "    .dataframe thead th {\n",
              "        text-align: right;\n",
              "    }\n",
              "</style>\n",
              "<table border=\"1\" class=\"dataframe\">\n",
              "  <thead>\n",
              "    <tr style=\"text-align: right;\">\n",
              "      <th></th>\n",
              "      <th>comments</th>\n",
              "      <th>student_star</th>\n",
              "      <th>student_difficult</th>\n",
              "    </tr>\n",
              "  </thead>\n",
              "  <tbody>\n",
              "    <tr>\n",
              "      <th>0</th>\n",
              "      <td>This class is hard, but its a two-in-one gen-e...</td>\n",
              "      <td>5.0</td>\n",
              "      <td>3.0</td>\n",
              "    </tr>\n",
              "    <tr>\n",
              "      <th>1</th>\n",
              "      <td>Definitely going to choose Prof. Looney\\'s cla...</td>\n",
              "      <td>5.0</td>\n",
              "      <td>2.0</td>\n",
              "    </tr>\n",
              "    <tr>\n",
              "      <th>2</th>\n",
              "      <td>I overall enjoyed this class because the assig...</td>\n",
              "      <td>4.0</td>\n",
              "      <td>3.0</td>\n",
              "    </tr>\n",
              "  </tbody>\n",
              "</table>\n",
              "</div>\n",
              "      <button class=\"colab-df-convert\" onclick=\"convertToInteractive('df-0e2392cb-3f26-4228-85ef-f99aa5ab9113')\"\n",
              "              title=\"Convert this dataframe to an interactive table.\"\n",
              "              style=\"display:none;\">\n",
              "        \n",
              "  <svg xmlns=\"http://www.w3.org/2000/svg\" height=\"24px\"viewBox=\"0 0 24 24\"\n",
              "       width=\"24px\">\n",
              "    <path d=\"M0 0h24v24H0V0z\" fill=\"none\"/>\n",
              "    <path d=\"M18.56 5.44l.94 2.06.94-2.06 2.06-.94-2.06-.94-.94-2.06-.94 2.06-2.06.94zm-11 1L8.5 8.5l.94-2.06 2.06-.94-2.06-.94L8.5 2.5l-.94 2.06-2.06.94zm10 10l.94 2.06.94-2.06 2.06-.94-2.06-.94-.94-2.06-.94 2.06-2.06.94z\"/><path d=\"M17.41 7.96l-1.37-1.37c-.4-.4-.92-.59-1.43-.59-.52 0-1.04.2-1.43.59L10.3 9.45l-7.72 7.72c-.78.78-.78 2.05 0 2.83L4 21.41c.39.39.9.59 1.41.59.51 0 1.02-.2 1.41-.59l7.78-7.78 2.81-2.81c.8-.78.8-2.07 0-2.86zM5.41 20L4 18.59l7.72-7.72 1.47 1.35L5.41 20z\"/>\n",
              "  </svg>\n",
              "      </button>\n",
              "      \n",
              "  <style>\n",
              "    .colab-df-container {\n",
              "      display:flex;\n",
              "      flex-wrap:wrap;\n",
              "      gap: 12px;\n",
              "    }\n",
              "\n",
              "    .colab-df-convert {\n",
              "      background-color: #E8F0FE;\n",
              "      border: none;\n",
              "      border-radius: 50%;\n",
              "      cursor: pointer;\n",
              "      display: none;\n",
              "      fill: #1967D2;\n",
              "      height: 32px;\n",
              "      padding: 0 0 0 0;\n",
              "      width: 32px;\n",
              "    }\n",
              "\n",
              "    .colab-df-convert:hover {\n",
              "      background-color: #E2EBFA;\n",
              "      box-shadow: 0px 1px 2px rgba(60, 64, 67, 0.3), 0px 1px 3px 1px rgba(60, 64, 67, 0.15);\n",
              "      fill: #174EA6;\n",
              "    }\n",
              "\n",
              "    [theme=dark] .colab-df-convert {\n",
              "      background-color: #3B4455;\n",
              "      fill: #D2E3FC;\n",
              "    }\n",
              "\n",
              "    [theme=dark] .colab-df-convert:hover {\n",
              "      background-color: #434B5C;\n",
              "      box-shadow: 0px 1px 3px 1px rgba(0, 0, 0, 0.15);\n",
              "      filter: drop-shadow(0px 1px 2px rgba(0, 0, 0, 0.3));\n",
              "      fill: #FFFFFF;\n",
              "    }\n",
              "  </style>\n",
              "\n",
              "      <script>\n",
              "        const buttonEl =\n",
              "          document.querySelector('#df-0e2392cb-3f26-4228-85ef-f99aa5ab9113 button.colab-df-convert');\n",
              "        buttonEl.style.display =\n",
              "          google.colab.kernel.accessAllowed ? 'block' : 'none';\n",
              "\n",
              "        async function convertToInteractive(key) {\n",
              "          const element = document.querySelector('#df-0e2392cb-3f26-4228-85ef-f99aa5ab9113');\n",
              "          const dataTable =\n",
              "            await google.colab.kernel.invokeFunction('convertToInteractive',\n",
              "                                                     [key], {});\n",
              "          if (!dataTable) return;\n",
              "\n",
              "          const docLinkHtml = 'Like what you see? Visit the ' +\n",
              "            '<a target=\"_blank\" href=https://colab.research.google.com/notebooks/data_table.ipynb>data table notebook</a>'\n",
              "            + ' to learn more about interactive tables.';\n",
              "          element.innerHTML = '';\n",
              "          dataTable['output_type'] = 'display_data';\n",
              "          await google.colab.output.renderOutput(dataTable, element);\n",
              "          const docLink = document.createElement('div');\n",
              "          docLink.innerHTML = docLinkHtml;\n",
              "          element.appendChild(docLink);\n",
              "        }\n",
              "      </script>\n",
              "    </div>\n",
              "  </div>\n",
              "  "
            ]
          },
          "metadata": {},
          "execution_count": 5
        }
      ]
    },
    {
      "cell_type": "code",
      "source": [
        "# Find any NaN in the two labels\n",
        "print(np.where(np.isnan(df['student_star'])))\n",
        "print(np.where(np.isnan(df['student_difficult'])))\n",
        "\n",
        "# Drop the observations that contain a NaN(s) as a label\n",
        "df = df.dropna(subset=[\"student_star\"])"
      ],
      "metadata": {
        "id": "0ng-JJwG5wTz",
        "colab": {
          "base_uri": "https://localhost:8080/"
        },
        "outputId": "d3ad5b0b-1d86-4290-cbb0-9cc3bc196b48"
      },
      "execution_count": null,
      "outputs": [
        {
          "output_type": "stream",
          "name": "stdout",
          "text": [
            "(array([693, 694, 695, 696, 697]),)\n",
            "(array([693, 694, 695, 696, 697]),)\n"
          ]
        }
      ]
    },
    {
      "cell_type": "code",
      "source": [
        "# Check if NaN were successfully removed\n",
        "print(np.where(np.isnan(df['student_star'])))\n",
        "print(np.where(np.isnan(df['student_difficult'])))\n",
        "\n",
        "print(\"New shape\", df.shape)"
      ],
      "metadata": {
        "id": "1Q1F9z0_5wQl",
        "colab": {
          "base_uri": "https://localhost:8080/"
        },
        "outputId": "554354a3-5aae-4b92-c560-384ce5bc46b3"
      },
      "execution_count": null,
      "outputs": [
        {
          "output_type": "stream",
          "name": "stdout",
          "text": [
            "(array([], dtype=int64),)\n",
            "(array([], dtype=int64),)\n",
            "New shape (19995, 3)\n"
          ]
        }
      ]
    },
    {
      "cell_type": "code",
      "source": [
        "# Extract comments, student star rating, and student difficulty rating\n",
        "x = df[\"comments\"].astype(str).tolist()\n",
        "y_star = df.iloc[:, 1].values\n",
        "y_diff = df.iloc[:, 2].values\n",
        "\n",
        "print(type(x), type(y_star), type(y_diff))\n",
        "print(len(x), y_star.size, y_diff.size)"
      ],
      "metadata": {
        "id": "C3aM6X7q7H44",
        "colab": {
          "base_uri": "https://localhost:8080/"
        },
        "outputId": "f49ffc79-67be-4f68-c104-6c49dbe10e2e"
      },
      "execution_count": null,
      "outputs": [
        {
          "output_type": "stream",
          "name": "stdout",
          "text": [
            "<class 'list'> <class 'numpy.ndarray'> <class 'numpy.ndarray'>\n",
            "19995 19995 19995\n"
          ]
        }
      ]
    },
    {
      "cell_type": "code",
      "source": [
        "# Removes any character that is not a word or whitespace while lowercasing\n",
        "cleaning_x = []\n",
        "for i in x:\n",
        "  i = re.sub(r'[^\\w\\s]', ' ', i)\n",
        "  i = i.lower()\n",
        "  cleaning_x.append(i)\n",
        "\n",
        "# Remove \\\n",
        "cleaned_x = []\n",
        "for j in cleaning_x:\n",
        "  j = j.replace(\"\\\\\", \" \")\n",
        "  cleaned_x.append(j)\n",
        "\n",
        "# Remove stopwords if have time\n",
        "# Get NLTK stopwords\n",
        "nltk.download('stopwords')\n",
        "cleanest_text = []\n",
        "for q in cleaned_x:\n",
        "  words = q.split()\n",
        "  cleaned = []\n",
        "  for w in words:\n",
        "    if w not in set(stopwords.words('english')):\n",
        "      cleaned.append(w)\n",
        "  cleanest_text.append(' '.join(cleaned))\n",
        "\n",
        "#cleanest_text"
      ],
      "metadata": {
        "id": "glMMoE1N7dhj",
        "colab": {
          "base_uri": "https://localhost:8080/"
        },
        "outputId": "f2609f40-d5f0-4870-c5ed-7d42c3d87211"
      },
      "execution_count": null,
      "outputs": [
        {
          "output_type": "stream",
          "name": "stderr",
          "text": [
            "[nltk_data] Downloading package stopwords to /root/nltk_data...\n",
            "[nltk_data]   Unzipping corpora/stopwords.zip.\n"
          ]
        }
      ]
    },
    {
      "cell_type": "code",
      "source": [
        "len(cleanest_text)"
      ],
      "metadata": {
        "id": "QhmIMSRzCG4S",
        "colab": {
          "base_uri": "https://localhost:8080/"
        },
        "outputId": "d9afc712-da3a-4f6c-abc2-6843c7e4585b"
      },
      "execution_count": null,
      "outputs": [
        {
          "output_type": "execute_result",
          "data": {
            "text/plain": [
              "19995"
            ]
          },
          "metadata": {},
          "execution_count": 10
        }
      ]
    },
    {
      "cell_type": "code",
      "source": [
        "# Tokenization\n",
        "tokens = tf.keras.preprocessing.text.Tokenizer(num_words = 20000)\n",
        "\n",
        "# Index vocabulary, so can make sequence later\n",
        "tokens.fit_on_texts(cleanest_text)\n",
        "\n",
        "# Convert the student comments to a sequence of integers\n",
        "integer_sequences = tokens.texts_to_sequences(cleanest_text)\n",
        "\n",
        "# Take a look at one student comment in the form of an integer sequence\n",
        "print(integer_sequences[69])"
      ],
      "metadata": {
        "id": "1vf3ztcu2jEK",
        "colab": {
          "base_uri": "https://localhost:8080/"
        },
        "outputId": "83623c94-3036-43b4-fd0a-31353d3a5578"
      },
      "execution_count": null,
      "outputs": [
        {
          "output_type": "stream",
          "name": "stdout",
          "text": [
            "[105, 1206, 51, 2985, 1279, 155, 32, 16, 274, 45, 43, 138, 766, 392, 3531, 1, 1456, 24, 5255, 698, 1052, 164, 1069, 380, 1859, 2208, 1]\n"
          ]
        }
      ]
    },
    {
      "cell_type": "code",
      "source": [
        "# Padding the sequence to make them all the same lengths\n",
        "# Note: Sequences must have same length to feed into NN\n",
        "\n",
        "# Find and set max length from sequences to pad with zeroes\n",
        "max_length = 0\n",
        "for k in integer_sequences:\n",
        "  if len(k) > max_length:\n",
        "    max_length = len(k)\n",
        "print(\"Max length:\", max_length)\n",
        "\n",
        "padded_sequences = tf.keras.utils.pad_sequences(integer_sequences,\n",
        "                                                maxlen = max_length,\n",
        "                                                padding = \"post\")\n",
        "print(padded_sequences.shape)\n",
        "print(padded_sequences[69])\n",
        "print(integer_sequences[69])"
      ],
      "metadata": {
        "id": "Yjr_t8jSC28k",
        "colab": {
          "base_uri": "https://localhost:8080/"
        },
        "outputId": "780feffc-f3e3-48f6-8af7-8115cff57214"
      },
      "execution_count": null,
      "outputs": [
        {
          "output_type": "stream",
          "name": "stdout",
          "text": [
            "Max length: 72\n",
            "(19995, 72)\n",
            "[ 105 1206   51 2985 1279  155   32   16  274   45   43  138  766  392\n",
            " 3531    1 1456   24 5255  698 1052  164 1069  380 1859 2208    1    0\n",
            "    0    0    0    0    0    0    0    0    0    0    0    0    0    0\n",
            "    0    0    0    0    0    0    0    0    0    0    0    0    0    0\n",
            "    0    0    0    0    0    0    0    0    0    0    0    0    0    0\n",
            "    0    0]\n",
            "[105, 1206, 51, 2985, 1279, 155, 32, 16, 274, 45, 43, 138, 766, 392, 3531, 1, 1456, 24, 5255, 698, 1052, 164, 1069, 380, 1859, 2208, 1]\n"
          ]
        }
      ]
    },
    {
      "cell_type": "markdown",
      "source": [
        "Load in Stanford's GloVe, which is a pre-trained word embedding application"
      ],
      "metadata": {
        "id": "1zD89TDfCLvm"
      }
    },
    {
      "cell_type": "code",
      "source": [
        "# Chollet's Style\n",
        "embeddings_index = {}\n",
        "with open(\"glove.6B.100d.txt\") as f:\n",
        "  for line in f:\n",
        "    word, coefs = line.split(maxsplit = 1)\n",
        "    coefs = np.fromstring(coefs, \"f\" ,sep = \" \")\n",
        "    embeddings_index[word] = coefs\n",
        "\n",
        "print(\"Found %s word vectors.\" % len(embeddings_index))\n",
        "#embeddings_index.keys()\n",
        "#embeddings_index['is']"
      ],
      "metadata": {
        "id": "kPCzsSogWKnE",
        "colab": {
          "base_uri": "https://localhost:8080/"
        },
        "outputId": "275155fd-3e5a-458f-be6c-6af934404cbb"
      },
      "execution_count": null,
      "outputs": [
        {
          "output_type": "stream",
          "name": "stdout",
          "text": [
            "Found 400000 word vectors.\n"
          ]
        }
      ]
    },
    {
      "cell_type": "code",
      "source": [
        "# Preparing/Creating the GloVe word-embeddings matrix\n",
        "embedding_dimensions = 100\n",
        "word_index = tokens.word_index\n",
        "\n",
        "embedding_matrix = np.zeros((len(word_index) + 1, embedding_dimensions))\n",
        "for word, i in word_index.items():\n",
        "  embedding_vector = embeddings_index.get(word)\n",
        "  if embedding_vector is not None:\n",
        "    embedding_matrix[i] = embedding_vector"
      ],
      "metadata": {
        "id": "jzLr_QuCXtOW"
      },
      "execution_count": null,
      "outputs": []
    },
    {
      "cell_type": "code",
      "source": [
        "embedding_matrix.shape"
      ],
      "metadata": {
        "id": "eAbOnY-H6kZe",
        "colab": {
          "base_uri": "https://localhost:8080/"
        },
        "outputId": "ea3e1f34-3732-4951-e4d6-777c4129afe1"
      },
      "execution_count": null,
      "outputs": [
        {
          "output_type": "execute_result",
          "data": {
            "text/plain": [
              "(16228, 100)"
            ]
          },
          "metadata": {},
          "execution_count": 20
        }
      ]
    },
    {
      "cell_type": "code",
      "source": [
        "max_length"
      ],
      "metadata": {
        "id": "NwsDofdW6Qhk",
        "colab": {
          "base_uri": "https://localhost:8080/"
        },
        "outputId": "be05567d-f12d-46d6-da21-7ae49ea77626"
      },
      "execution_count": null,
      "outputs": [
        {
          "output_type": "execute_result",
          "data": {
            "text/plain": [
              "72"
            ]
          },
          "metadata": {},
          "execution_count": 21
        }
      ]
    },
    {
      "cell_type": "code",
      "source": [
        "len(word_index)"
      ],
      "metadata": {
        "id": "DR5u3y1T9Td2",
        "colab": {
          "base_uri": "https://localhost:8080/"
        },
        "outputId": "5b13802d-70b8-47b0-d597-7c9431d3db64"
      },
      "execution_count": null,
      "outputs": [
        {
          "output_type": "execute_result",
          "data": {
            "text/plain": [
              "16227"
            ]
          },
          "metadata": {},
          "execution_count": 22
        }
      ]
    },
    {
      "cell_type": "code",
      "source": [
        "# Define the Embedding layer\n",
        "embedding_layer = tf.keras.layers.Embedding(input_dim = len(word_index) + 1,\n",
        "                                            output_dim = embedding_dimensions,\n",
        "                                            input_length = max_length,\n",
        "                                            weights = [embedding_matrix],\n",
        "                                            embeddings_initializer = tf.keras.initializers.Constant(embedding_matrix),\n",
        "                                            trainable = False,\n",
        "                                            mask_zero=True)"
      ],
      "metadata": {
        "id": "uAaz7RAdapQy"
      },
      "execution_count": null,
      "outputs": []
    },
    {
      "cell_type": "code",
      "source": [
        "padded_sequences.shape"
      ],
      "metadata": {
        "id": "Nn0oCRZdEvmQ",
        "colab": {
          "base_uri": "https://localhost:8080/"
        },
        "outputId": "e22a423f-5f34-469a-c4b1-7f360c03fb11"
      },
      "execution_count": null,
      "outputs": [
        {
          "output_type": "execute_result",
          "data": {
            "text/plain": [
              "(19995, 72)"
            ]
          },
          "metadata": {},
          "execution_count": 24
        }
      ]
    },
    {
      "cell_type": "code",
      "source": [
        "padded_sequences[0].shape[0]"
      ],
      "metadata": {
        "id": "qn7iNxfIEvS3",
        "colab": {
          "base_uri": "https://localhost:8080/"
        },
        "outputId": "bb4dcee4-3353-4318-fa49-6af43cf0abd8"
      },
      "execution_count": null,
      "outputs": [
        {
          "output_type": "execute_result",
          "data": {
            "text/plain": [
              "72"
            ]
          },
          "metadata": {},
          "execution_count": 25
        }
      ]
    },
    {
      "cell_type": "code",
      "source": [
        "# Use Embedding Layer to convert integer sequences to vector sequences\n",
        "# skip for now, since i think it is being embedded already during training process due to the first embedding layer\n",
        "#embedded_sequences = embedding_layer(padded_sequences)"
      ],
      "metadata": {
        "id": "Qjbp3U9PapNk"
      },
      "execution_count": null,
      "outputs": []
    },
    {
      "cell_type": "code",
      "source": [
        "#embedded_sequences.shape"
      ],
      "metadata": {
        "id": "25vTZnyIcUWr"
      },
      "execution_count": null,
      "outputs": []
    },
    {
      "cell_type": "markdown",
      "source": [
        "Splitting the data into 60% training, 20% validation, 20% testing while shuffling"
      ],
      "metadata": {
        "id": "Afle1gLVI-BG"
      }
    },
    {
      "cell_type": "code",
      "source": [
        "# Convert embedded_sequences from Tensor to np.array for splitting\n",
        "# Note: Convert from np.array to Tensor after to feed to NN\n",
        "x_np = padded_sequences\n",
        "print(x_np.shape, type(x_np))\n",
        "print(y_star.shape, y_diff.shape)"
      ],
      "metadata": {
        "id": "e3mHXUGBcvz1",
        "colab": {
          "base_uri": "https://localhost:8080/"
        },
        "outputId": "55e8ab91-c8b9-47b8-fc16-bf5d732270d8"
      },
      "execution_count": null,
      "outputs": [
        {
          "output_type": "stream",
          "name": "stdout",
          "text": [
            "(19995, 72) <class 'numpy.ndarray'>\n",
            "(19995,) (19995,)\n"
          ]
        }
      ]
    },
    {
      "cell_type": "code",
      "source": [
        "x_tv, x_test, ys_tv, ys_test, yd_tv, yd_test=train_test_split(\n",
        "    x_np,y_star,y_diff,test_size=0.2, shuffle=True)\n",
        "x_train,x_val,ys_train,ys_val,yd_train,yd_val=train_test_split(\n",
        "    x_tv,ys_tv,yd_tv,test_size=0.25, shuffle=True)\n",
        "print(x_train.shape, x_val.shape, x_test.shape)\n",
        "print(ys_train.shape, ys_val.shape, ys_test.shape)\n",
        "print(yd_train.shape, yd_val.shape, yd_test.shape)"
      ],
      "metadata": {
        "id": "Pc9N0lidJGAM",
        "colab": {
          "base_uri": "https://localhost:8080/"
        },
        "outputId": "2b50e52e-5df9-4e17-bf74-ebb8cf29527e"
      },
      "execution_count": null,
      "outputs": [
        {
          "output_type": "stream",
          "name": "stdout",
          "text": [
            "(11997, 72) (3999, 72) (3999, 72)\n",
            "(11997,) (3999,) (3999,)\n",
            "(11997,) (3999,) (3999,)\n"
          ]
        }
      ]
    },
    {
      "cell_type": "code",
      "source": [
        "# Convert from np.array to Tensor after to feed to NN\n",
        "x_train = tf.convert_to_tensor(x_train)\n",
        "x_val = tf.convert_to_tensor(x_val)\n",
        "x_test = tf.convert_to_tensor(x_test)\n",
        "ys_train = tf.convert_to_tensor(ys_train)\n",
        "ys_val = tf.convert_to_tensor(ys_val)\n",
        "ys_test = tf.convert_to_tensor(ys_test)\n",
        "yd_train = tf.convert_to_tensor(yd_train)\n",
        "yd_val = tf.convert_to_tensor(yd_val)\n",
        "yd_test = tf.convert_to_tensor(yd_test)"
      ],
      "metadata": {
        "id": "w-D7-CxSdIsT"
      },
      "execution_count": null,
      "outputs": []
    },
    {
      "cell_type": "code",
      "source": [
        "x_train.shape"
      ],
      "metadata": {
        "id": "1Frr_nkndIpn",
        "colab": {
          "base_uri": "https://localhost:8080/"
        },
        "outputId": "b72c751a-5dd3-4220-d1e4-29abb2e34b0f"
      },
      "execution_count": null,
      "outputs": [
        {
          "output_type": "execute_result",
          "data": {
            "text/plain": [
              "TensorShape([11997, 72])"
            ]
          },
          "metadata": {},
          "execution_count": 29
        }
      ]
    },
    {
      "cell_type": "code",
      "source": [
        "ys_train = to_categorical(ys_train, num_classes=9)\n",
        "ys_val = to_categorical(ys_val, num_classes=9)\n",
        "ys_test = to_categorical(ys_test, num_classes=9)\n",
        "yd_train = to_categorical(yd_train, num_classes=9)\n",
        "yd_val = to_categorical(yd_val, num_classes=9)\n",
        "yd_test = to_categorical(yd_test, num_classes=9)"
      ],
      "metadata": {
        "id": "-Fa9wDn3ThHX"
      },
      "execution_count": null,
      "outputs": []
    },
    {
      "cell_type": "markdown",
      "source": [],
      "metadata": {
        "id": "2PjjbJ1raGmm"
      }
    },
    {
      "cell_type": "code",
      "source": [],
      "metadata": {
        "id": "ImdPyYn9nPAC"
      },
      "execution_count": null,
      "outputs": []
    },
    {
      "cell_type": "code",
      "source": [],
      "metadata": {
        "id": "2iP_R882nO9P"
      },
      "execution_count": null,
      "outputs": []
    },
    {
      "cell_type": "code",
      "source": [],
      "metadata": {
        "id": "iq22skIHnO6k"
      },
      "execution_count": null,
      "outputs": []
    },
    {
      "cell_type": "code",
      "source": [],
      "metadata": {
        "id": "UELXatATnO3z"
      },
      "execution_count": null,
      "outputs": []
    },
    {
      "cell_type": "code",
      "source": [],
      "metadata": {
        "id": "0gjV_qq8nO06"
      },
      "execution_count": null,
      "outputs": []
    },
    {
      "cell_type": "code",
      "source": [],
      "metadata": {
        "id": "PA28tk6RnOyQ"
      },
      "execution_count": null,
      "outputs": []
    },
    {
      "cell_type": "code",
      "source": [],
      "metadata": {
        "id": "2kICdhICnOvz"
      },
      "execution_count": null,
      "outputs": []
    },
    {
      "cell_type": "code",
      "source": [],
      "metadata": {
        "id": "MsBBKAIGnOps"
      },
      "execution_count": null,
      "outputs": []
    },
    {
      "cell_type": "markdown",
      "source": [
        "The models and layers"
      ],
      "metadata": {
        "id": "jO0m-iUhJ1IF"
      }
    },
    {
      "cell_type": "code",
      "source": [
        "x_train[0]"
      ],
      "metadata": {
        "id": "b2TpxlEyz1e9",
        "colab": {
          "base_uri": "https://localhost:8080/"
        },
        "outputId": "a997d310-9265-4517-be2f-dfc22088aba3"
      },
      "execution_count": null,
      "outputs": [
        {
          "output_type": "execute_result",
          "data": {
            "text/plain": [
              "<tf.Tensor: shape=(72,), dtype=int32, numpy=\n",
              "array([   13,   116,   162,   190,    99,   664,   321,  4303,    83,\n",
              "        1791,   297,   126,   124,   145,    61,  1469,   358,   190,\n",
              "        4338,  1939,    21,   106,  2378, 13832,    18,  1186,     0,\n",
              "           0,     0,     0,     0,     0,     0,     0,     0,     0,\n",
              "           0,     0,     0,     0,     0,     0,     0,     0,     0,\n",
              "           0,     0,     0,     0,     0,     0,     0,     0,     0,\n",
              "           0,     0,     0,     0,     0,     0,     0,     0,     0,\n",
              "           0,     0,     0,     0,     0,     0,     0,     0,     0],\n",
              "      dtype=int32)>"
            ]
          },
          "metadata": {},
          "execution_count": 31
        }
      ]
    },
    {
      "cell_type": "code",
      "source": [
        "from tensorflow.keras.layers import Bidirectional\n",
        "from tensorflow.keras.layers import Dropout\n",
        "\n",
        "model = keras.Sequential()\n",
        "model.add(embedding_layer)\n",
        "model.add(Bidirectional(LSTM(32)))\n",
        "model.add(Dropout(0.5))\n",
        "model.add(Dense(9, activation='softmax'))\n",
        "\n",
        "model.summary()\n",
        "from tensorflow.keras.optimizers import Adam\n",
        "#optimizer = Adam(learning_rate=0.03) # default 0.001\n",
        "model.compile(loss='categorical_crossentropy', optimizer=\"rmsprop\", metrics=['accuracy'])\n",
        "\n",
        "model.fit(x_train, ys_train, validation_data=(x_val, ys_val),\n",
        "           epochs=15, batch_size=32)\n"
      ],
      "metadata": {
        "id": "jOJ3lHhkzDq9",
        "colab": {
          "base_uri": "https://localhost:8080/"
        },
        "outputId": "ab96d1eb-d2ae-4c95-dae6-2ae51f44fccd"
      },
      "execution_count": null,
      "outputs": [
        {
          "output_type": "stream",
          "name": "stdout",
          "text": [
            "Model: \"sequential\"\n",
            "_________________________________________________________________\n",
            " Layer (type)                Output Shape              Param #   \n",
            "=================================================================\n",
            " embedding (Embedding)       (None, 72, 100)           1622800   \n",
            "                                                                 \n",
            " bidirectional (Bidirectiona  (None, 64)               34048     \n",
            " l)                                                              \n",
            "                                                                 \n",
            " dropout (Dropout)           (None, 64)                0         \n",
            "                                                                 \n",
            " dense (Dense)               (None, 9)                 585       \n",
            "                                                                 \n",
            "=================================================================\n",
            "Total params: 1,657,433\n",
            "Trainable params: 34,633\n",
            "Non-trainable params: 1,622,800\n",
            "_________________________________________________________________\n",
            "Epoch 1/15\n",
            "375/375 [==============================] - 48s 105ms/step - loss: 1.4342 - accuracy: 0.4004 - val_loss: 1.2580 - val_accuracy: 0.4774\n",
            "Epoch 2/15\n",
            "375/375 [==============================] - 36s 95ms/step - loss: 1.2544 - accuracy: 0.4680 - val_loss: 1.2147 - val_accuracy: 0.4856\n",
            "Epoch 3/15\n",
            "375/375 [==============================] - 36s 95ms/step - loss: 1.2133 - accuracy: 0.4813 - val_loss: 1.2188 - val_accuracy: 0.4851\n",
            "Epoch 4/15\n",
            "375/375 [==============================] - 36s 95ms/step - loss: 1.1816 - accuracy: 0.4949 - val_loss: 1.1787 - val_accuracy: 0.4986\n",
            "Epoch 5/15\n",
            "375/375 [==============================] - 37s 99ms/step - loss: 1.1609 - accuracy: 0.5018 - val_loss: 1.1778 - val_accuracy: 0.4991\n",
            "Epoch 6/15\n",
            "375/375 [==============================] - 35s 93ms/step - loss: 1.1466 - accuracy: 0.5111 - val_loss: 1.1736 - val_accuracy: 0.5009\n",
            "Epoch 7/15\n",
            "375/375 [==============================] - 36s 97ms/step - loss: 1.1280 - accuracy: 0.5160 - val_loss: 1.1661 - val_accuracy: 0.5064\n",
            "Epoch 8/15\n",
            "375/375 [==============================] - 36s 95ms/step - loss: 1.1133 - accuracy: 0.5238 - val_loss: 1.1718 - val_accuracy: 0.5029\n",
            "Epoch 9/15\n",
            "375/375 [==============================] - 39s 103ms/step - loss: 1.0992 - accuracy: 0.5317 - val_loss: 1.2202 - val_accuracy: 0.4836\n",
            "Epoch 10/15\n",
            "375/375 [==============================] - 38s 102ms/step - loss: 1.0865 - accuracy: 0.5376 - val_loss: 1.1668 - val_accuracy: 0.5096\n",
            "Epoch 11/15\n",
            "375/375 [==============================] - 34s 91ms/step - loss: 1.0724 - accuracy: 0.5446 - val_loss: 1.1873 - val_accuracy: 0.4979\n",
            "Epoch 12/15\n",
            "375/375 [==============================] - 38s 100ms/step - loss: 1.0558 - accuracy: 0.5468 - val_loss: 1.1991 - val_accuracy: 0.5114\n",
            "Epoch 13/15\n",
            "375/375 [==============================] - 39s 104ms/step - loss: 1.0447 - accuracy: 0.5557 - val_loss: 1.1971 - val_accuracy: 0.4991\n",
            "Epoch 14/15\n",
            "375/375 [==============================] - 35s 93ms/step - loss: 1.0300 - accuracy: 0.5609 - val_loss: 1.1811 - val_accuracy: 0.5076\n",
            "Epoch 15/15\n",
            "375/375 [==============================] - 37s 100ms/step - loss: 1.0213 - accuracy: 0.5600 - val_loss: 1.2058 - val_accuracy: 0.5051\n"
          ]
        },
        {
          "output_type": "execute_result",
          "data": {
            "text/plain": [
              "<keras.callbacks.History at 0x7f516b62acb0>"
            ]
          },
          "metadata": {},
          "execution_count": 32
        }
      ]
    },
    {
      "cell_type": "code",
      "source": [
        "import pandas as pd\n",
        "import random\n",
        "\n",
        "# Load the dataset into a pandas dataframe\n",
        "df = pd.read_csv(\"RateMyProfessor_Sample data.csv\")\n",
        "\n",
        "# Define the text shuffling function\n",
        "def shuffle_text(text):\n",
        "    words = text.split()\n",
        "    random.shuffle(words)\n",
        "    shuffled_text = ' '.join(words)\n",
        "    return shuffled_text\n",
        "\n",
        "# Apply the text shuffling function to each sentence in the dataset\n",
        "augmented_data = []\n",
        "for sentence in df['comments']:\n",
        "    augmented_sentence = shuffle_text(comments)\n",
        "    augmented_data.append(comments)\n",
        "\n",
        "# Add the augmented data to the original dataframe\n",
        "df_augmented = pd.DataFrame({'comments': augmented_data, 'label': df['label']})\n",
        "\n",
        "# Concatenate the original and augmented dataframes\n",
        "df_concatenated = pd.concat([df, df_augmented], ignore_index=True)\n",
        "\n",
        "# Save the concatenated dataframe to a new csv file\n",
        "df_concatenated.to_csv(\"my_augmented_dataset.csv\", index=False)\n"
      ],
      "metadata": {
        "colab": {
          "base_uri": "https://localhost:8080/",
          "height": 425
        },
        "id": "uigoaJGnEMMk",
        "outputId": "ad2252d3-12e5-4c8c-f79f-5363c90863a6"
      },
      "execution_count": null,
      "outputs": [
        {
          "output_type": "error",
          "ename": "AttributeError",
          "evalue": "ignored",
          "traceback": [
            "\u001b[0;31m---------------------------------------------------------------------------\u001b[0m",
            "\u001b[0;31mAttributeError\u001b[0m                            Traceback (most recent call last)",
            "\u001b[0;32m<ipython-input-38-68a049260b77>\u001b[0m in \u001b[0;36m<cell line: 16>\u001b[0;34m()\u001b[0m\n\u001b[1;32m     15\u001b[0m \u001b[0maugmented_data\u001b[0m \u001b[0;34m=\u001b[0m \u001b[0;34m[\u001b[0m\u001b[0;34m]\u001b[0m\u001b[0;34m\u001b[0m\u001b[0;34m\u001b[0m\u001b[0m\n\u001b[1;32m     16\u001b[0m \u001b[0;32mfor\u001b[0m \u001b[0msentence\u001b[0m \u001b[0;32min\u001b[0m \u001b[0mdf\u001b[0m\u001b[0;34m[\u001b[0m\u001b[0;34m'comments'\u001b[0m\u001b[0;34m]\u001b[0m\u001b[0;34m:\u001b[0m\u001b[0;34m\u001b[0m\u001b[0;34m\u001b[0m\u001b[0m\n\u001b[0;32m---> 17\u001b[0;31m     \u001b[0maugmented_sentence\u001b[0m \u001b[0;34m=\u001b[0m \u001b[0mshuffle_text\u001b[0m\u001b[0;34m(\u001b[0m\u001b[0mcomments\u001b[0m\u001b[0;34m)\u001b[0m\u001b[0;34m\u001b[0m\u001b[0;34m\u001b[0m\u001b[0m\n\u001b[0m\u001b[1;32m     18\u001b[0m     \u001b[0maugmented_data\u001b[0m\u001b[0;34m.\u001b[0m\u001b[0mappend\u001b[0m\u001b[0;34m(\u001b[0m\u001b[0mcomments\u001b[0m\u001b[0;34m)\u001b[0m\u001b[0;34m\u001b[0m\u001b[0;34m\u001b[0m\u001b[0m\n\u001b[1;32m     19\u001b[0m \u001b[0;34m\u001b[0m\u001b[0m\n",
            "\u001b[0;32m<ipython-input-38-68a049260b77>\u001b[0m in \u001b[0;36mshuffle_text\u001b[0;34m(text)\u001b[0m\n\u001b[1;32m      7\u001b[0m \u001b[0;31m# Define the text shuffling function\u001b[0m\u001b[0;34m\u001b[0m\u001b[0;34m\u001b[0m\u001b[0m\n\u001b[1;32m      8\u001b[0m \u001b[0;32mdef\u001b[0m \u001b[0mshuffle_text\u001b[0m\u001b[0;34m(\u001b[0m\u001b[0mtext\u001b[0m\u001b[0;34m)\u001b[0m\u001b[0;34m:\u001b[0m\u001b[0;34m\u001b[0m\u001b[0;34m\u001b[0m\u001b[0m\n\u001b[0;32m----> 9\u001b[0;31m     \u001b[0mwords\u001b[0m \u001b[0;34m=\u001b[0m \u001b[0mtext\u001b[0m\u001b[0;34m.\u001b[0m\u001b[0msplit\u001b[0m\u001b[0;34m(\u001b[0m\u001b[0;34m)\u001b[0m\u001b[0;34m\u001b[0m\u001b[0;34m\u001b[0m\u001b[0m\n\u001b[0m\u001b[1;32m     10\u001b[0m     \u001b[0mrandom\u001b[0m\u001b[0;34m.\u001b[0m\u001b[0mshuffle\u001b[0m\u001b[0;34m(\u001b[0m\u001b[0mwords\u001b[0m\u001b[0;34m)\u001b[0m\u001b[0;34m\u001b[0m\u001b[0;34m\u001b[0m\u001b[0m\n\u001b[1;32m     11\u001b[0m     \u001b[0mshuffled_text\u001b[0m \u001b[0;34m=\u001b[0m \u001b[0;34m' '\u001b[0m\u001b[0;34m.\u001b[0m\u001b[0mjoin\u001b[0m\u001b[0;34m(\u001b[0m\u001b[0mwords\u001b[0m\u001b[0;34m)\u001b[0m\u001b[0;34m\u001b[0m\u001b[0;34m\u001b[0m\u001b[0m\n",
            "\u001b[0;32m/usr/local/lib/python3.10/dist-packages/bs4/element.py\u001b[0m in \u001b[0;36m__getattr__\u001b[0;34m(self, key)\u001b[0m\n\u001b[1;32m   2306\u001b[0m     \u001b[0;32mdef\u001b[0m \u001b[0m__getattr__\u001b[0m\u001b[0;34m(\u001b[0m\u001b[0mself\u001b[0m\u001b[0;34m,\u001b[0m \u001b[0mkey\u001b[0m\u001b[0;34m)\u001b[0m\u001b[0;34m:\u001b[0m\u001b[0;34m\u001b[0m\u001b[0;34m\u001b[0m\u001b[0m\n\u001b[1;32m   2307\u001b[0m         \u001b[0;34m\"\"\"Raise a helpful exception to explain a common code fix.\"\"\"\u001b[0m\u001b[0;34m\u001b[0m\u001b[0;34m\u001b[0m\u001b[0m\n\u001b[0;32m-> 2308\u001b[0;31m         raise AttributeError(\n\u001b[0m\u001b[1;32m   2309\u001b[0m             \u001b[0;34m\"ResultSet object has no attribute '%s'. You're probably treating a list of elements like a single element. Did you call find_all() when you meant to call find()?\"\u001b[0m \u001b[0;34m%\u001b[0m \u001b[0mkey\u001b[0m\u001b[0;34m\u001b[0m\u001b[0;34m\u001b[0m\u001b[0m\n\u001b[1;32m   2310\u001b[0m         )\n",
            "\u001b[0;31mAttributeError\u001b[0m: ResultSet object has no attribute 'split'. You're probably treating a list of elements like a single element. Did you call find_all() when you meant to call find()?"
          ]
        }
      ]
    },
    {
      "cell_type": "code",
      "source": [
        "from tensorflow.keras.layers import Bidirectional\n",
        "from tensorflow.keras.layers import Dropout\n",
        "\n",
        "model = keras.Sequential()\n",
        "model.add(embedding_layer)\n",
        "model.add(Bidirectional(LSTM(128)))\n",
        "model.add(Dropout(0.5))\n",
        "model.add(Dense(9, activation='softmax'))\n",
        "\n",
        "model.summary()\n",
        "from tensorflow.keras.optimizers import Adam\n",
        "#optimizer = Adam(learning_rate=0.03) # default 0.001\n",
        "model.compile(loss='categorical_crossentropy', optimizer=\"rmsprop\", metrics=['accuracy'])\n",
        "\n",
        "model.fit(x_train, ys_train, validation_data=(x_val, ys_val),\n",
        "           epochs=15, batch_size=32)\n"
      ],
      "metadata": {
        "id": "hTfenmvohVJI"
      },
      "execution_count": null,
      "outputs": []
    },
    {
      "cell_type": "code",
      "source": [],
      "metadata": {
        "id": "7NiWB_LzhVFg"
      },
      "execution_count": null,
      "outputs": []
    },
    {
      "cell_type": "code",
      "source": [],
      "metadata": {
        "id": "9YB-obBXhVCY"
      },
      "execution_count": null,
      "outputs": []
    },
    {
      "cell_type": "code",
      "source": [],
      "metadata": {
        "id": "Iu5hVDhQhU-b"
      },
      "execution_count": null,
      "outputs": []
    },
    {
      "cell_type": "code",
      "source": [
        "model = keras.Sequential()\n",
        "model.add(embedding_layer)\n",
        "model.add(Bidirectional(LSTM(32)))\n",
        "model.add(Dropout(0.5))\n",
        "model.add(Dense(9, activation='softmax'))\n",
        "\n",
        "model.summary()\n",
        "from tensorflow.keras.optimizers import Adam\n",
        "#optimizer = Adam(learning_rate=0.03) # default 0.001\n",
        "model.compile(loss='categorical_crossentropy', optimizer=\"rmsprop\", metrics=['accuracy'])\n",
        "\n",
        "model.fit(x_train, yd_train, validation_data=(x_val, yd_val),\n",
        "           epochs=15, batch_size=32)"
      ],
      "metadata": {
        "id": "MO8dRuRp4GIK"
      },
      "execution_count": null,
      "outputs": []
    },
    {
      "cell_type": "code",
      "source": [],
      "metadata": {
        "id": "_Hcl3nLg4GE2"
      },
      "execution_count": null,
      "outputs": []
    },
    {
      "cell_type": "code",
      "source": [],
      "metadata": {
        "id": "LSV_-RwSzDfV"
      },
      "execution_count": null,
      "outputs": []
    },
    {
      "cell_type": "code",
      "source": [],
      "metadata": {
        "id": "x7ad6gzHzDcP"
      },
      "execution_count": null,
      "outputs": []
    },
    {
      "cell_type": "code",
      "source": [
        "from tensorflow.keras.layers import Bidirectional\n",
        "from tensorflow.keras.layers import Dropout\n",
        "\n",
        "model = keras.Sequential()\n",
        "model.add(embedding_layer)\n",
        "model.add(Bidirectional(LSTM(64, return_sequences=True, recurrent_dropout=0.2)))\n",
        "model.add(Dropout(0.2))\n",
        "model.add(tf.keras.layers.BatchNormalization())\n",
        "model.add(LSTM(32, recurrent_dropout=0.2))\n",
        "model.add(Dropout(0.2))\n",
        "model.add(tf.keras.layers.BatchNormalization())\n",
        "model.add(Dense(9, activation='softmax'))\n",
        "\n",
        "model.summary()\n",
        "from tensorflow.keras.optimizers import Adam\n",
        "optimizer = Adam(learning_rate=0.03) # default 0.001\n",
        "model.compile(loss='categorical_crossentropy', optimizer=optimizer, metrics=['accuracy'])\n"
      ],
      "metadata": {
        "id": "_XS9lasMWPqF"
      },
      "execution_count": null,
      "outputs": []
    },
    {
      "cell_type": "code",
      "source": [
        "model.fit(x_train, ys_train, validation_data=(x_val, ys_val),\n",
        "           epochs=15, batch_size=32)"
      ],
      "metadata": {
        "id": "3oYMlDMpWsDp"
      },
      "execution_count": null,
      "outputs": []
    },
    {
      "cell_type": "code",
      "source": [],
      "metadata": {
        "id": "tuUfd9pkWsAv"
      },
      "execution_count": null,
      "outputs": []
    },
    {
      "cell_type": "code",
      "source": [],
      "metadata": {
        "id": "C7xpN8oZWr6p"
      },
      "execution_count": null,
      "outputs": []
    },
    {
      "cell_type": "code",
      "source": [],
      "metadata": {
        "id": "WzEJ5ncJWQW8"
      },
      "execution_count": null,
      "outputs": []
    },
    {
      "cell_type": "code",
      "source": [
        "# This works: Will be a baseline ~ Around 50% accuracy\n",
        "# Bidirectional GRU, did not yield good results at all, overfitting and continuous decrease performance per epoch\n",
        "model = keras.Sequential()\n",
        "model.add(embedding_layer)\n",
        "model.add(LSTM(64, return_sequences=True))\n",
        "model.add(Dropout(0.2))\n",
        "model.add(tf.keras.layers.BatchNormalization())\n",
        "model.add(LSTM(32))\n",
        "model.add(Dropout(0.2))\n",
        "model.add(tf.keras.layers.BatchNormalization())\n",
        "model.add(Dense(9, activation='softmax'))\n",
        "model.summary()\n",
        "from tensorflow.keras.optimizers import Adam\n",
        "optimizer = Adam(learning_rate=0.03) # default 0.001\n",
        "model.compile(loss='categorical_crossentropy', optimizer=optimizer, metrics=['accuracy'])"
      ],
      "metadata": {
        "id": "W9F53aBnGgVK"
      },
      "execution_count": null,
      "outputs": []
    },
    {
      "cell_type": "code",
      "source": [
        "model.fit(x_train, ys_train, validation_data=(x_val, ys_val),\n",
        "           epochs=15, batch_size=32)"
      ],
      "metadata": {
        "id": "zgfzstaaIU85"
      },
      "execution_count": null,
      "outputs": []
    },
    {
      "cell_type": "code",
      "source": [],
      "metadata": {
        "id": "P1FiZ7RyZ9nd"
      },
      "execution_count": null,
      "outputs": []
    },
    {
      "cell_type": "code",
      "source": [
        "\n",
        "model = keras.Sequential()\n",
        "model.add(embedding_layer)\n",
        "\n",
        "model.add(Dropout(0.2))\n",
        "model.add(tf.keras.layers.BatchNormalization())\n",
        "model.add(Dense(9, activation='softmax'))\n",
        "model.summary()\n",
        "from tensorflow.keras.optimizers import Adam\n",
        "optimizer = Adam(learning_rate=0.03) # default 0.001\n",
        "model.compile(loss='categorical_crossentropy', optimizer=optimizer, metrics=['accuracy'])\n",
        "model.fit(x_train, ys_train, validation_data=(x_val, ys_val),\n",
        "           epochs=15, batch_size=32)"
      ],
      "metadata": {
        "id": "YkZorLLAaaKU"
      },
      "execution_count": null,
      "outputs": []
    },
    {
      "cell_type": "code",
      "source": [
        "# This works: Will be a baseline ~ Around 50% accuracy\n",
        "model = keras.Sequential()\n",
        "model.add(embedding_layer)\n",
        "model.add(GRU(32))\n",
        "model.add(Dropout(0.2))\n",
        "model.add(tf.keras.layers.BatchNormalization())\n",
        "model.add(Dense(9, activation='softmax'))\n",
        "model.summary()\n",
        "from tensorflow.keras.optimizers import Adam\n",
        "optimizer = Adam(learning_rate=0.03) # default 0.001\n",
        "model.compile(loss='categorical_crossentropy', optimizer=optimizer, metrics=['accuracy'])\n",
        "model.fit(x_train, yd_train, validation_data=(x_val, yd_val),\n",
        "           epochs=15, batch_size=32)"
      ],
      "metadata": {
        "id": "LIyz9W51aaGT"
      },
      "execution_count": null,
      "outputs": []
    },
    {
      "cell_type": "code",
      "source": [],
      "metadata": {
        "id": "YeuCzgTpbMIh"
      },
      "execution_count": null,
      "outputs": []
    },
    {
      "cell_type": "markdown",
      "source": [
        "web scrapping\n"
      ],
      "metadata": {
        "id": "C1Nl1Ku870pe"
      }
    },
    {
      "cell_type": "markdown",
      "source": [],
      "metadata": {
        "id": "s2M6m42mATbw"
      }
    },
    {
      "cell_type": "code",
      "source": [
        "import requests\n",
        "\n",
        "# Define the URL to be scraped\n",
        "url = \"https://www.ratemyprofessors.com/professor/1118877\"\n",
        "\n",
        "# Send a GET request to the URL\n",
        "response = requests.get(url)\n",
        "\n",
        "# Get the HTML content of the response\n",
        "html_content = response.content\n",
        "\n",
        "# Save the HTML content to a file with .html extension\n",
        "with open(\"ratemyproff.html\", \"wb\") as f:\n",
        "    f.write(html_content)"
      ],
      "metadata": {
        "id": "mpAZ02pvASXk"
      },
      "execution_count": null,
      "outputs": []
    },
    {
      "cell_type": "code",
      "source": [
        "from bs4 import BeautifulSoup\n",
        "with open('ratemyproff.html','r') as html_file:\n",
        "  content = html_file.read()\n",
        "  soup = BeautifulSoup(content,'lxml')\n",
        "  comments = soup.find_all('div', class_='Comments__StyledComments-dzzyvm-0 gRjWel')\n",
        "  for course in comments:\n",
        "    print(comments)\n"
      ],
      "metadata": {
        "colab": {
          "base_uri": "https://localhost:8080/"
        },
        "id": "6ue0p9GP712R",
        "outputId": "f6936d0a-0a2b-4490-c6d7-9ae676422e68"
      },
      "execution_count": null,
      "outputs": [
        {
          "output_type": "stream",
          "name": "stdout",
          "text": [
            "[<div class=\"Comments__StyledComments-dzzyvm-0 gRjWel\">He teaches NOTHING during lecture, no code, no helpful lecture. Not Grading for the whole semester and he'll grade it after final project. Member of project are random. Project 1 is at almost first half semester, and Project 2,3,4 are on the last month of semester WHYY. Please AVOID at all COST and don't believe in positive review.</div>, <div class=\"Comments__StyledComments-dzzyvm-0 gRjWel\">One of the best professors at csuf for cs department in my opinion. Just make sure to keep up with the learning material and don't miss any assignments because they build on top of each other concept wise. </div>, <div class=\"Comments__StyledComments-dzzyvm-0 gRjWel\">He didn't grade for a long time. The greatest challenge is trying to figure out how his notes apply to the assignment.\n",
            "</div>, <div class=\"Comments__StyledComments-dzzyvm-0 gRjWel\">He does not grade until the end of the semester, until then you have no idea what your grade will be. Only group projects built around one big project, final group was randomized for no reason. He doesnt teach ANY code during lecture, only office hours (essential for projects). Lectures are useless, better off learning from youtube. AVOID PLEASE.\n",
            "</div>, <div class=\"Comments__StyledComments-dzzyvm-0 gRjWel\">Very knowledgeable about the topic he teaches, however the lectures are relatively dry. There are two weeks left till the semester ends and he still hasn't graded a single thing like what the other reviews said. All group projects are randomized, you get new members for every project, so good luck if you get someone who doesn't contribute anything.</div>, <div class=\"Comments__StyledComments-dzzyvm-0 gRjWel\">He doesn't grade anything all semester, so you have no idea if you're even doing projects correctly. He says the class is designed for beginners, but the very first project is literally back-end game development that just feels overwhelming when learning about APIs. Semester long projects with group member rotation, useless lectures.</div>, <div class=\"Comments__StyledComments-dzzyvm-0 gRjWel\">All the negative reviews are coming from ppl who are expecting to cheat/google their way through a csdegree. If youre one of those ppl, dont take his class. IF you want to learn a lot about the subject, pay attention and participate in his lecture and discussion!</div>, <div class=\"Comments__StyledComments-dzzyvm-0 gRjWel\">He'll spend 2 hours of lecture responding to random questions posted on canvas and then 1 hour talking about concepts for the subject of that given week. He doesn't show you how to code, he just gives you links to documentation and you basically teach yourself the technologies. Projects are a lot of work, you could get unlucky with a bad group.</div>, <div class=\"Comments__StyledComments-dzzyvm-0 gRjWel\">He does not grade until the end of the semester, until then you have no idea what your grade will be. Only group projects built around one big project, final group was randomized for no reason.  He doesnt teach ANY code during lecture, only office hours (essential for projects).  Lectures are useless, better off learning from youtube. AVOID PLEASE.</div>, <div class=\"Comments__StyledComments-dzzyvm-0 gRjWel\">Nice guy. Explains concepts very clearly. If you stick with it &amp; work hard you'll be ok, but an A definitely isn't a given. You have to be extremely prepared in order to ace tests. I suggest looking up videos on concepts before lectures to better follow. It's a stressful class for some, but course is pretty fair besides that. Curves final grade</div>, <div class=\"Comments__StyledComments-dzzyvm-0 gRjWel\">If you're going to take him for 483 be prepared to study your ass off, missing one class might set you back a bit. He's a nice guy and knows the subject well but is extremely tough on grading both for projects and exams. If you're eager about the subject he's the right teacher, otherwise I wouldn't bother the stress.</div>, <div class=\"Comments__StyledComments-dzzyvm-0 gRjWel\">Avery is genuinely one of the best professors at CSUF. If you're the type of student who does the bare minimum and is googling most of their HW (you know who these people are) you'll have a rough time, but if you pay attention and takes notes and do the work/readings it's a pretty easy A.</div>, <div class=\"Comments__StyledComments-dzzyvm-0 gRjWel\">Machine learning is a DIFFICULT class. I think Avery does a good job at teaching the concepts but be prepared to do self study and maybe cry a bit. Sometimes his projects can be unclear and he takes a long time to grade things. You definitely don't want to miss classes if you can avoid it.</div>, <div class=\"Comments__StyledComments-dzzyvm-0 gRjWel\">The projects are hard to follow. You have to ask him to clarify some questions. The project is also worth 30% of your grade. He's a tough grader and the lecture is kind of boring and long. Too much info is being given in a 3hr class that it's hard to absorb all of the info. Doesn't help that he also does not share class recordings.</div>, <div class=\"Comments__StyledComments-dzzyvm-0 gRjWel\">Even 1 is too high for him. Simply put, stay away from this professor. His class is the most boring one I've ever taken, and his instruction on projects is a disaster. He records the class but doesn't provide you with recordings...</div>, <div class=\"Comments__StyledComments-dzzyvm-0 gRjWel\">Avery is a great professor. The exams are conceptual so read the book and pay attention to the lectures. Group projects are made so that you will really learn so make sure you start early. He can come off as rude but he is always willing to help.</div>, <div class=\"Comments__StyledComments-dzzyvm-0 gRjWel\">Professor Avery is the BEST professor at CSUF. This man knows his sh*t inside and out. He does a GREAT job of explaining concepts. The negative reviews are from those who failed because they didn't put in the work. Avery is a fair grader and will always help you outside of class. I would take him for EVERY class if I could. Best professor ever.</div>, <div class=\"Comments__StyledComments-dzzyvm-0 gRjWel\">He teaches well! After attending his class, the textbook gets easy to read. He gives real-world knowledge!</div>, <div class=\"Comments__StyledComments-dzzyvm-0 gRjWel\">Kenytt is probably the best professor at CSUF. That's not a hard feat to accomplish - especially in the CS department here, but nevertheless i think he is a great teacher. He teaches well, and makes you work for it. It's how I imagined a proper college course would go. I respect him a lot. He can be rude at times but that's just how he is.</div>, <div class=\"Comments__StyledComments-dzzyvm-0 gRjWel\">He is a knowledgeable professor in the Machine learning field. He teaches stuff in lecture time. You can learn something from his classes. He assigns the projects in detail and with helpful links on somewhere setup things. All your time will be saved to do your project instead of figuring out new software. You need a lot of deep reading.</div>]\n",
            "[<div class=\"Comments__StyledComments-dzzyvm-0 gRjWel\">He teaches NOTHING during lecture, no code, no helpful lecture. Not Grading for the whole semester and he'll grade it after final project. Member of project are random. Project 1 is at almost first half semester, and Project 2,3,4 are on the last month of semester WHYY. Please AVOID at all COST and don't believe in positive review.</div>, <div class=\"Comments__StyledComments-dzzyvm-0 gRjWel\">One of the best professors at csuf for cs department in my opinion. Just make sure to keep up with the learning material and don't miss any assignments because they build on top of each other concept wise. </div>, <div class=\"Comments__StyledComments-dzzyvm-0 gRjWel\">He didn't grade for a long time. The greatest challenge is trying to figure out how his notes apply to the assignment.\n",
            "</div>, <div class=\"Comments__StyledComments-dzzyvm-0 gRjWel\">He does not grade until the end of the semester, until then you have no idea what your grade will be. Only group projects built around one big project, final group was randomized for no reason. He doesnt teach ANY code during lecture, only office hours (essential for projects). Lectures are useless, better off learning from youtube. AVOID PLEASE.\n",
            "</div>, <div class=\"Comments__StyledComments-dzzyvm-0 gRjWel\">Very knowledgeable about the topic he teaches, however the lectures are relatively dry. There are two weeks left till the semester ends and he still hasn't graded a single thing like what the other reviews said. All group projects are randomized, you get new members for every project, so good luck if you get someone who doesn't contribute anything.</div>, <div class=\"Comments__StyledComments-dzzyvm-0 gRjWel\">He doesn't grade anything all semester, so you have no idea if you're even doing projects correctly. He says the class is designed for beginners, but the very first project is literally back-end game development that just feels overwhelming when learning about APIs. Semester long projects with group member rotation, useless lectures.</div>, <div class=\"Comments__StyledComments-dzzyvm-0 gRjWel\">All the negative reviews are coming from ppl who are expecting to cheat/google their way through a csdegree. If youre one of those ppl, dont take his class. IF you want to learn a lot about the subject, pay attention and participate in his lecture and discussion!</div>, <div class=\"Comments__StyledComments-dzzyvm-0 gRjWel\">He'll spend 2 hours of lecture responding to random questions posted on canvas and then 1 hour talking about concepts for the subject of that given week. He doesn't show you how to code, he just gives you links to documentation and you basically teach yourself the technologies. Projects are a lot of work, you could get unlucky with a bad group.</div>, <div class=\"Comments__StyledComments-dzzyvm-0 gRjWel\">He does not grade until the end of the semester, until then you have no idea what your grade will be. Only group projects built around one big project, final group was randomized for no reason.  He doesnt teach ANY code during lecture, only office hours (essential for projects).  Lectures are useless, better off learning from youtube. AVOID PLEASE.</div>, <div class=\"Comments__StyledComments-dzzyvm-0 gRjWel\">Nice guy. Explains concepts very clearly. If you stick with it &amp; work hard you'll be ok, but an A definitely isn't a given. You have to be extremely prepared in order to ace tests. I suggest looking up videos on concepts before lectures to better follow. It's a stressful class for some, but course is pretty fair besides that. Curves final grade</div>, <div class=\"Comments__StyledComments-dzzyvm-0 gRjWel\">If you're going to take him for 483 be prepared to study your ass off, missing one class might set you back a bit. He's a nice guy and knows the subject well but is extremely tough on grading both for projects and exams. If you're eager about the subject he's the right teacher, otherwise I wouldn't bother the stress.</div>, <div class=\"Comments__StyledComments-dzzyvm-0 gRjWel\">Avery is genuinely one of the best professors at CSUF. If you're the type of student who does the bare minimum and is googling most of their HW (you know who these people are) you'll have a rough time, but if you pay attention and takes notes and do the work/readings it's a pretty easy A.</div>, <div class=\"Comments__StyledComments-dzzyvm-0 gRjWel\">Machine learning is a DIFFICULT class. I think Avery does a good job at teaching the concepts but be prepared to do self study and maybe cry a bit. Sometimes his projects can be unclear and he takes a long time to grade things. You definitely don't want to miss classes if you can avoid it.</div>, <div class=\"Comments__StyledComments-dzzyvm-0 gRjWel\">The projects are hard to follow. You have to ask him to clarify some questions. The project is also worth 30% of your grade. He's a tough grader and the lecture is kind of boring and long. Too much info is being given in a 3hr class that it's hard to absorb all of the info. Doesn't help that he also does not share class recordings.</div>, <div class=\"Comments__StyledComments-dzzyvm-0 gRjWel\">Even 1 is too high for him. Simply put, stay away from this professor. His class is the most boring one I've ever taken, and his instruction on projects is a disaster. He records the class but doesn't provide you with recordings...</div>, <div class=\"Comments__StyledComments-dzzyvm-0 gRjWel\">Avery is a great professor. The exams are conceptual so read the book and pay attention to the lectures. Group projects are made so that you will really learn so make sure you start early. He can come off as rude but he is always willing to help.</div>, <div class=\"Comments__StyledComments-dzzyvm-0 gRjWel\">Professor Avery is the BEST professor at CSUF. This man knows his sh*t inside and out. He does a GREAT job of explaining concepts. The negative reviews are from those who failed because they didn't put in the work. Avery is a fair grader and will always help you outside of class. I would take him for EVERY class if I could. Best professor ever.</div>, <div class=\"Comments__StyledComments-dzzyvm-0 gRjWel\">He teaches well! After attending his class, the textbook gets easy to read. He gives real-world knowledge!</div>, <div class=\"Comments__StyledComments-dzzyvm-0 gRjWel\">Kenytt is probably the best professor at CSUF. That's not a hard feat to accomplish - especially in the CS department here, but nevertheless i think he is a great teacher. He teaches well, and makes you work for it. It's how I imagined a proper college course would go. I respect him a lot. He can be rude at times but that's just how he is.</div>, <div class=\"Comments__StyledComments-dzzyvm-0 gRjWel\">He is a knowledgeable professor in the Machine learning field. He teaches stuff in lecture time. You can learn something from his classes. He assigns the projects in detail and with helpful links on somewhere setup things. All your time will be saved to do your project instead of figuring out new software. You need a lot of deep reading.</div>]\n",
            "[<div class=\"Comments__StyledComments-dzzyvm-0 gRjWel\">He teaches NOTHING during lecture, no code, no helpful lecture. Not Grading for the whole semester and he'll grade it after final project. Member of project are random. Project 1 is at almost first half semester, and Project 2,3,4 are on the last month of semester WHYY. Please AVOID at all COST and don't believe in positive review.</div>, <div class=\"Comments__StyledComments-dzzyvm-0 gRjWel\">One of the best professors at csuf for cs department in my opinion. Just make sure to keep up with the learning material and don't miss any assignments because they build on top of each other concept wise. </div>, <div class=\"Comments__StyledComments-dzzyvm-0 gRjWel\">He didn't grade for a long time. The greatest challenge is trying to figure out how his notes apply to the assignment.\n",
            "</div>, <div class=\"Comments__StyledComments-dzzyvm-0 gRjWel\">He does not grade until the end of the semester, until then you have no idea what your grade will be. Only group projects built around one big project, final group was randomized for no reason. He doesnt teach ANY code during lecture, only office hours (essential for projects). Lectures are useless, better off learning from youtube. AVOID PLEASE.\n",
            "</div>, <div class=\"Comments__StyledComments-dzzyvm-0 gRjWel\">Very knowledgeable about the topic he teaches, however the lectures are relatively dry. There are two weeks left till the semester ends and he still hasn't graded a single thing like what the other reviews said. All group projects are randomized, you get new members for every project, so good luck if you get someone who doesn't contribute anything.</div>, <div class=\"Comments__StyledComments-dzzyvm-0 gRjWel\">He doesn't grade anything all semester, so you have no idea if you're even doing projects correctly. He says the class is designed for beginners, but the very first project is literally back-end game development that just feels overwhelming when learning about APIs. Semester long projects with group member rotation, useless lectures.</div>, <div class=\"Comments__StyledComments-dzzyvm-0 gRjWel\">All the negative reviews are coming from ppl who are expecting to cheat/google their way through a csdegree. If youre one of those ppl, dont take his class. IF you want to learn a lot about the subject, pay attention and participate in his lecture and discussion!</div>, <div class=\"Comments__StyledComments-dzzyvm-0 gRjWel\">He'll spend 2 hours of lecture responding to random questions posted on canvas and then 1 hour talking about concepts for the subject of that given week. He doesn't show you how to code, he just gives you links to documentation and you basically teach yourself the technologies. Projects are a lot of work, you could get unlucky with a bad group.</div>, <div class=\"Comments__StyledComments-dzzyvm-0 gRjWel\">He does not grade until the end of the semester, until then you have no idea what your grade will be. Only group projects built around one big project, final group was randomized for no reason.  He doesnt teach ANY code during lecture, only office hours (essential for projects).  Lectures are useless, better off learning from youtube. AVOID PLEASE.</div>, <div class=\"Comments__StyledComments-dzzyvm-0 gRjWel\">Nice guy. Explains concepts very clearly. If you stick with it &amp; work hard you'll be ok, but an A definitely isn't a given. You have to be extremely prepared in order to ace tests. I suggest looking up videos on concepts before lectures to better follow. It's a stressful class for some, but course is pretty fair besides that. Curves final grade</div>, <div class=\"Comments__StyledComments-dzzyvm-0 gRjWel\">If you're going to take him for 483 be prepared to study your ass off, missing one class might set you back a bit. He's a nice guy and knows the subject well but is extremely tough on grading both for projects and exams. If you're eager about the subject he's the right teacher, otherwise I wouldn't bother the stress.</div>, <div class=\"Comments__StyledComments-dzzyvm-0 gRjWel\">Avery is genuinely one of the best professors at CSUF. If you're the type of student who does the bare minimum and is googling most of their HW (you know who these people are) you'll have a rough time, but if you pay attention and takes notes and do the work/readings it's a pretty easy A.</div>, <div class=\"Comments__StyledComments-dzzyvm-0 gRjWel\">Machine learning is a DIFFICULT class. I think Avery does a good job at teaching the concepts but be prepared to do self study and maybe cry a bit. Sometimes his projects can be unclear and he takes a long time to grade things. You definitely don't want to miss classes if you can avoid it.</div>, <div class=\"Comments__StyledComments-dzzyvm-0 gRjWel\">The projects are hard to follow. You have to ask him to clarify some questions. The project is also worth 30% of your grade. He's a tough grader and the lecture is kind of boring and long. Too much info is being given in a 3hr class that it's hard to absorb all of the info. Doesn't help that he also does not share class recordings.</div>, <div class=\"Comments__StyledComments-dzzyvm-0 gRjWel\">Even 1 is too high for him. Simply put, stay away from this professor. His class is the most boring one I've ever taken, and his instruction on projects is a disaster. He records the class but doesn't provide you with recordings...</div>, <div class=\"Comments__StyledComments-dzzyvm-0 gRjWel\">Avery is a great professor. The exams are conceptual so read the book and pay attention to the lectures. Group projects are made so that you will really learn so make sure you start early. He can come off as rude but he is always willing to help.</div>, <div class=\"Comments__StyledComments-dzzyvm-0 gRjWel\">Professor Avery is the BEST professor at CSUF. This man knows his sh*t inside and out. He does a GREAT job of explaining concepts. The negative reviews are from those who failed because they didn't put in the work. Avery is a fair grader and will always help you outside of class. I would take him for EVERY class if I could. Best professor ever.</div>, <div class=\"Comments__StyledComments-dzzyvm-0 gRjWel\">He teaches well! After attending his class, the textbook gets easy to read. He gives real-world knowledge!</div>, <div class=\"Comments__StyledComments-dzzyvm-0 gRjWel\">Kenytt is probably the best professor at CSUF. That's not a hard feat to accomplish - especially in the CS department here, but nevertheless i think he is a great teacher. He teaches well, and makes you work for it. It's how I imagined a proper college course would go. I respect him a lot. He can be rude at times but that's just how he is.</div>, <div class=\"Comments__StyledComments-dzzyvm-0 gRjWel\">He is a knowledgeable professor in the Machine learning field. He teaches stuff in lecture time. You can learn something from his classes. He assigns the projects in detail and with helpful links on somewhere setup things. All your time will be saved to do your project instead of figuring out new software. You need a lot of deep reading.</div>]\n",
            "[<div class=\"Comments__StyledComments-dzzyvm-0 gRjWel\">He teaches NOTHING during lecture, no code, no helpful lecture. Not Grading for the whole semester and he'll grade it after final project. Member of project are random. Project 1 is at almost first half semester, and Project 2,3,4 are on the last month of semester WHYY. Please AVOID at all COST and don't believe in positive review.</div>, <div class=\"Comments__StyledComments-dzzyvm-0 gRjWel\">One of the best professors at csuf for cs department in my opinion. Just make sure to keep up with the learning material and don't miss any assignments because they build on top of each other concept wise. </div>, <div class=\"Comments__StyledComments-dzzyvm-0 gRjWel\">He didn't grade for a long time. The greatest challenge is trying to figure out how his notes apply to the assignment.\n",
            "</div>, <div class=\"Comments__StyledComments-dzzyvm-0 gRjWel\">He does not grade until the end of the semester, until then you have no idea what your grade will be. Only group projects built around one big project, final group was randomized for no reason. He doesnt teach ANY code during lecture, only office hours (essential for projects). Lectures are useless, better off learning from youtube. AVOID PLEASE.\n",
            "</div>, <div class=\"Comments__StyledComments-dzzyvm-0 gRjWel\">Very knowledgeable about the topic he teaches, however the lectures are relatively dry. There are two weeks left till the semester ends and he still hasn't graded a single thing like what the other reviews said. All group projects are randomized, you get new members for every project, so good luck if you get someone who doesn't contribute anything.</div>, <div class=\"Comments__StyledComments-dzzyvm-0 gRjWel\">He doesn't grade anything all semester, so you have no idea if you're even doing projects correctly. He says the class is designed for beginners, but the very first project is literally back-end game development that just feels overwhelming when learning about APIs. Semester long projects with group member rotation, useless lectures.</div>, <div class=\"Comments__StyledComments-dzzyvm-0 gRjWel\">All the negative reviews are coming from ppl who are expecting to cheat/google their way through a csdegree. If youre one of those ppl, dont take his class. IF you want to learn a lot about the subject, pay attention and participate in his lecture and discussion!</div>, <div class=\"Comments__StyledComments-dzzyvm-0 gRjWel\">He'll spend 2 hours of lecture responding to random questions posted on canvas and then 1 hour talking about concepts for the subject of that given week. He doesn't show you how to code, he just gives you links to documentation and you basically teach yourself the technologies. Projects are a lot of work, you could get unlucky with a bad group.</div>, <div class=\"Comments__StyledComments-dzzyvm-0 gRjWel\">He does not grade until the end of the semester, until then you have no idea what your grade will be. Only group projects built around one big project, final group was randomized for no reason.  He doesnt teach ANY code during lecture, only office hours (essential for projects).  Lectures are useless, better off learning from youtube. AVOID PLEASE.</div>, <div class=\"Comments__StyledComments-dzzyvm-0 gRjWel\">Nice guy. Explains concepts very clearly. If you stick with it &amp; work hard you'll be ok, but an A definitely isn't a given. You have to be extremely prepared in order to ace tests. I suggest looking up videos on concepts before lectures to better follow. It's a stressful class for some, but course is pretty fair besides that. Curves final grade</div>, <div class=\"Comments__StyledComments-dzzyvm-0 gRjWel\">If you're going to take him for 483 be prepared to study your ass off, missing one class might set you back a bit. He's a nice guy and knows the subject well but is extremely tough on grading both for projects and exams. If you're eager about the subject he's the right teacher, otherwise I wouldn't bother the stress.</div>, <div class=\"Comments__StyledComments-dzzyvm-0 gRjWel\">Avery is genuinely one of the best professors at CSUF. If you're the type of student who does the bare minimum and is googling most of their HW (you know who these people are) you'll have a rough time, but if you pay attention and takes notes and do the work/readings it's a pretty easy A.</div>, <div class=\"Comments__StyledComments-dzzyvm-0 gRjWel\">Machine learning is a DIFFICULT class. I think Avery does a good job at teaching the concepts but be prepared to do self study and maybe cry a bit. Sometimes his projects can be unclear and he takes a long time to grade things. You definitely don't want to miss classes if you can avoid it.</div>, <div class=\"Comments__StyledComments-dzzyvm-0 gRjWel\">The projects are hard to follow. You have to ask him to clarify some questions. The project is also worth 30% of your grade. He's a tough grader and the lecture is kind of boring and long. Too much info is being given in a 3hr class that it's hard to absorb all of the info. Doesn't help that he also does not share class recordings.</div>, <div class=\"Comments__StyledComments-dzzyvm-0 gRjWel\">Even 1 is too high for him. Simply put, stay away from this professor. His class is the most boring one I've ever taken, and his instruction on projects is a disaster. He records the class but doesn't provide you with recordings...</div>, <div class=\"Comments__StyledComments-dzzyvm-0 gRjWel\">Avery is a great professor. The exams are conceptual so read the book and pay attention to the lectures. Group projects are made so that you will really learn so make sure you start early. He can come off as rude but he is always willing to help.</div>, <div class=\"Comments__StyledComments-dzzyvm-0 gRjWel\">Professor Avery is the BEST professor at CSUF. This man knows his sh*t inside and out. He does a GREAT job of explaining concepts. The negative reviews are from those who failed because they didn't put in the work. Avery is a fair grader and will always help you outside of class. I would take him for EVERY class if I could. Best professor ever.</div>, <div class=\"Comments__StyledComments-dzzyvm-0 gRjWel\">He teaches well! After attending his class, the textbook gets easy to read. He gives real-world knowledge!</div>, <div class=\"Comments__StyledComments-dzzyvm-0 gRjWel\">Kenytt is probably the best professor at CSUF. That's not a hard feat to accomplish - especially in the CS department here, but nevertheless i think he is a great teacher. He teaches well, and makes you work for it. It's how I imagined a proper college course would go. I respect him a lot. He can be rude at times but that's just how he is.</div>, <div class=\"Comments__StyledComments-dzzyvm-0 gRjWel\">He is a knowledgeable professor in the Machine learning field. He teaches stuff in lecture time. You can learn something from his classes. He assigns the projects in detail and with helpful links on somewhere setup things. All your time will be saved to do your project instead of figuring out new software. You need a lot of deep reading.</div>]\n",
            "[<div class=\"Comments__StyledComments-dzzyvm-0 gRjWel\">He teaches NOTHING during lecture, no code, no helpful lecture. Not Grading for the whole semester and he'll grade it after final project. Member of project are random. Project 1 is at almost first half semester, and Project 2,3,4 are on the last month of semester WHYY. Please AVOID at all COST and don't believe in positive review.</div>, <div class=\"Comments__StyledComments-dzzyvm-0 gRjWel\">One of the best professors at csuf for cs department in my opinion. Just make sure to keep up with the learning material and don't miss any assignments because they build on top of each other concept wise. </div>, <div class=\"Comments__StyledComments-dzzyvm-0 gRjWel\">He didn't grade for a long time. The greatest challenge is trying to figure out how his notes apply to the assignment.\n",
            "</div>, <div class=\"Comments__StyledComments-dzzyvm-0 gRjWel\">He does not grade until the end of the semester, until then you have no idea what your grade will be. Only group projects built around one big project, final group was randomized for no reason. He doesnt teach ANY code during lecture, only office hours (essential for projects). Lectures are useless, better off learning from youtube. AVOID PLEASE.\n",
            "</div>, <div class=\"Comments__StyledComments-dzzyvm-0 gRjWel\">Very knowledgeable about the topic he teaches, however the lectures are relatively dry. There are two weeks left till the semester ends and he still hasn't graded a single thing like what the other reviews said. All group projects are randomized, you get new members for every project, so good luck if you get someone who doesn't contribute anything.</div>, <div class=\"Comments__StyledComments-dzzyvm-0 gRjWel\">He doesn't grade anything all semester, so you have no idea if you're even doing projects correctly. He says the class is designed for beginners, but the very first project is literally back-end game development that just feels overwhelming when learning about APIs. Semester long projects with group member rotation, useless lectures.</div>, <div class=\"Comments__StyledComments-dzzyvm-0 gRjWel\">All the negative reviews are coming from ppl who are expecting to cheat/google their way through a csdegree. If youre one of those ppl, dont take his class. IF you want to learn a lot about the subject, pay attention and participate in his lecture and discussion!</div>, <div class=\"Comments__StyledComments-dzzyvm-0 gRjWel\">He'll spend 2 hours of lecture responding to random questions posted on canvas and then 1 hour talking about concepts for the subject of that given week. He doesn't show you how to code, he just gives you links to documentation and you basically teach yourself the technologies. Projects are a lot of work, you could get unlucky with a bad group.</div>, <div class=\"Comments__StyledComments-dzzyvm-0 gRjWel\">He does not grade until the end of the semester, until then you have no idea what your grade will be. Only group projects built around one big project, final group was randomized for no reason.  He doesnt teach ANY code during lecture, only office hours (essential for projects).  Lectures are useless, better off learning from youtube. AVOID PLEASE.</div>, <div class=\"Comments__StyledComments-dzzyvm-0 gRjWel\">Nice guy. Explains concepts very clearly. If you stick with it &amp; work hard you'll be ok, but an A definitely isn't a given. You have to be extremely prepared in order to ace tests. I suggest looking up videos on concepts before lectures to better follow. It's a stressful class for some, but course is pretty fair besides that. Curves final grade</div>, <div class=\"Comments__StyledComments-dzzyvm-0 gRjWel\">If you're going to take him for 483 be prepared to study your ass off, missing one class might set you back a bit. He's a nice guy and knows the subject well but is extremely tough on grading both for projects and exams. If you're eager about the subject he's the right teacher, otherwise I wouldn't bother the stress.</div>, <div class=\"Comments__StyledComments-dzzyvm-0 gRjWel\">Avery is genuinely one of the best professors at CSUF. If you're the type of student who does the bare minimum and is googling most of their HW (you know who these people are) you'll have a rough time, but if you pay attention and takes notes and do the work/readings it's a pretty easy A.</div>, <div class=\"Comments__StyledComments-dzzyvm-0 gRjWel\">Machine learning is a DIFFICULT class. I think Avery does a good job at teaching the concepts but be prepared to do self study and maybe cry a bit. Sometimes his projects can be unclear and he takes a long time to grade things. You definitely don't want to miss classes if you can avoid it.</div>, <div class=\"Comments__StyledComments-dzzyvm-0 gRjWel\">The projects are hard to follow. You have to ask him to clarify some questions. The project is also worth 30% of your grade. He's a tough grader and the lecture is kind of boring and long. Too much info is being given in a 3hr class that it's hard to absorb all of the info. Doesn't help that he also does not share class recordings.</div>, <div class=\"Comments__StyledComments-dzzyvm-0 gRjWel\">Even 1 is too high for him. Simply put, stay away from this professor. His class is the most boring one I've ever taken, and his instruction on projects is a disaster. He records the class but doesn't provide you with recordings...</div>, <div class=\"Comments__StyledComments-dzzyvm-0 gRjWel\">Avery is a great professor. The exams are conceptual so read the book and pay attention to the lectures. Group projects are made so that you will really learn so make sure you start early. He can come off as rude but he is always willing to help.</div>, <div class=\"Comments__StyledComments-dzzyvm-0 gRjWel\">Professor Avery is the BEST professor at CSUF. This man knows his sh*t inside and out. He does a GREAT job of explaining concepts. The negative reviews are from those who failed because they didn't put in the work. Avery is a fair grader and will always help you outside of class. I would take him for EVERY class if I could. Best professor ever.</div>, <div class=\"Comments__StyledComments-dzzyvm-0 gRjWel\">He teaches well! After attending his class, the textbook gets easy to read. He gives real-world knowledge!</div>, <div class=\"Comments__StyledComments-dzzyvm-0 gRjWel\">Kenytt is probably the best professor at CSUF. That's not a hard feat to accomplish - especially in the CS department here, but nevertheless i think he is a great teacher. He teaches well, and makes you work for it. It's how I imagined a proper college course would go. I respect him a lot. He can be rude at times but that's just how he is.</div>, <div class=\"Comments__StyledComments-dzzyvm-0 gRjWel\">He is a knowledgeable professor in the Machine learning field. He teaches stuff in lecture time. You can learn something from his classes. He assigns the projects in detail and with helpful links on somewhere setup things. All your time will be saved to do your project instead of figuring out new software. You need a lot of deep reading.</div>]\n",
            "[<div class=\"Comments__StyledComments-dzzyvm-0 gRjWel\">He teaches NOTHING during lecture, no code, no helpful lecture. Not Grading for the whole semester and he'll grade it after final project. Member of project are random. Project 1 is at almost first half semester, and Project 2,3,4 are on the last month of semester WHYY. Please AVOID at all COST and don't believe in positive review.</div>, <div class=\"Comments__StyledComments-dzzyvm-0 gRjWel\">One of the best professors at csuf for cs department in my opinion. Just make sure to keep up with the learning material and don't miss any assignments because they build on top of each other concept wise. </div>, <div class=\"Comments__StyledComments-dzzyvm-0 gRjWel\">He didn't grade for a long time. The greatest challenge is trying to figure out how his notes apply to the assignment.\n",
            "</div>, <div class=\"Comments__StyledComments-dzzyvm-0 gRjWel\">He does not grade until the end of the semester, until then you have no idea what your grade will be. Only group projects built around one big project, final group was randomized for no reason. He doesnt teach ANY code during lecture, only office hours (essential for projects). Lectures are useless, better off learning from youtube. AVOID PLEASE.\n",
            "</div>, <div class=\"Comments__StyledComments-dzzyvm-0 gRjWel\">Very knowledgeable about the topic he teaches, however the lectures are relatively dry. There are two weeks left till the semester ends and he still hasn't graded a single thing like what the other reviews said. All group projects are randomized, you get new members for every project, so good luck if you get someone who doesn't contribute anything.</div>, <div class=\"Comments__StyledComments-dzzyvm-0 gRjWel\">He doesn't grade anything all semester, so you have no idea if you're even doing projects correctly. He says the class is designed for beginners, but the very first project is literally back-end game development that just feels overwhelming when learning about APIs. Semester long projects with group member rotation, useless lectures.</div>, <div class=\"Comments__StyledComments-dzzyvm-0 gRjWel\">All the negative reviews are coming from ppl who are expecting to cheat/google their way through a csdegree. If youre one of those ppl, dont take his class. IF you want to learn a lot about the subject, pay attention and participate in his lecture and discussion!</div>, <div class=\"Comments__StyledComments-dzzyvm-0 gRjWel\">He'll spend 2 hours of lecture responding to random questions posted on canvas and then 1 hour talking about concepts for the subject of that given week. He doesn't show you how to code, he just gives you links to documentation and you basically teach yourself the technologies. Projects are a lot of work, you could get unlucky with a bad group.</div>, <div class=\"Comments__StyledComments-dzzyvm-0 gRjWel\">He does not grade until the end of the semester, until then you have no idea what your grade will be. Only group projects built around one big project, final group was randomized for no reason.  He doesnt teach ANY code during lecture, only office hours (essential for projects).  Lectures are useless, better off learning from youtube. AVOID PLEASE.</div>, <div class=\"Comments__StyledComments-dzzyvm-0 gRjWel\">Nice guy. Explains concepts very clearly. If you stick with it &amp; work hard you'll be ok, but an A definitely isn't a given. You have to be extremely prepared in order to ace tests. I suggest looking up videos on concepts before lectures to better follow. It's a stressful class for some, but course is pretty fair besides that. Curves final grade</div>, <div class=\"Comments__StyledComments-dzzyvm-0 gRjWel\">If you're going to take him for 483 be prepared to study your ass off, missing one class might set you back a bit. He's a nice guy and knows the subject well but is extremely tough on grading both for projects and exams. If you're eager about the subject he's the right teacher, otherwise I wouldn't bother the stress.</div>, <div class=\"Comments__StyledComments-dzzyvm-0 gRjWel\">Avery is genuinely one of the best professors at CSUF. If you're the type of student who does the bare minimum and is googling most of their HW (you know who these people are) you'll have a rough time, but if you pay attention and takes notes and do the work/readings it's a pretty easy A.</div>, <div class=\"Comments__StyledComments-dzzyvm-0 gRjWel\">Machine learning is a DIFFICULT class. I think Avery does a good job at teaching the concepts but be prepared to do self study and maybe cry a bit. Sometimes his projects can be unclear and he takes a long time to grade things. You definitely don't want to miss classes if you can avoid it.</div>, <div class=\"Comments__StyledComments-dzzyvm-0 gRjWel\">The projects are hard to follow. You have to ask him to clarify some questions. The project is also worth 30% of your grade. He's a tough grader and the lecture is kind of boring and long. Too much info is being given in a 3hr class that it's hard to absorb all of the info. Doesn't help that he also does not share class recordings.</div>, <div class=\"Comments__StyledComments-dzzyvm-0 gRjWel\">Even 1 is too high for him. Simply put, stay away from this professor. His class is the most boring one I've ever taken, and his instruction on projects is a disaster. He records the class but doesn't provide you with recordings...</div>, <div class=\"Comments__StyledComments-dzzyvm-0 gRjWel\">Avery is a great professor. The exams are conceptual so read the book and pay attention to the lectures. Group projects are made so that you will really learn so make sure you start early. He can come off as rude but he is always willing to help.</div>, <div class=\"Comments__StyledComments-dzzyvm-0 gRjWel\">Professor Avery is the BEST professor at CSUF. This man knows his sh*t inside and out. He does a GREAT job of explaining concepts. The negative reviews are from those who failed because they didn't put in the work. Avery is a fair grader and will always help you outside of class. I would take him for EVERY class if I could. Best professor ever.</div>, <div class=\"Comments__StyledComments-dzzyvm-0 gRjWel\">He teaches well! After attending his class, the textbook gets easy to read. He gives real-world knowledge!</div>, <div class=\"Comments__StyledComments-dzzyvm-0 gRjWel\">Kenytt is probably the best professor at CSUF. That's not a hard feat to accomplish - especially in the CS department here, but nevertheless i think he is a great teacher. He teaches well, and makes you work for it. It's how I imagined a proper college course would go. I respect him a lot. He can be rude at times but that's just how he is.</div>, <div class=\"Comments__StyledComments-dzzyvm-0 gRjWel\">He is a knowledgeable professor in the Machine learning field. He teaches stuff in lecture time. You can learn something from his classes. He assigns the projects in detail and with helpful links on somewhere setup things. All your time will be saved to do your project instead of figuring out new software. You need a lot of deep reading.</div>]\n",
            "[<div class=\"Comments__StyledComments-dzzyvm-0 gRjWel\">He teaches NOTHING during lecture, no code, no helpful lecture. Not Grading for the whole semester and he'll grade it after final project. Member of project are random. Project 1 is at almost first half semester, and Project 2,3,4 are on the last month of semester WHYY. Please AVOID at all COST and don't believe in positive review.</div>, <div class=\"Comments__StyledComments-dzzyvm-0 gRjWel\">One of the best professors at csuf for cs department in my opinion. Just make sure to keep up with the learning material and don't miss any assignments because they build on top of each other concept wise. </div>, <div class=\"Comments__StyledComments-dzzyvm-0 gRjWel\">He didn't grade for a long time. The greatest challenge is trying to figure out how his notes apply to the assignment.\n",
            "</div>, <div class=\"Comments__StyledComments-dzzyvm-0 gRjWel\">He does not grade until the end of the semester, until then you have no idea what your grade will be. Only group projects built around one big project, final group was randomized for no reason. He doesnt teach ANY code during lecture, only office hours (essential for projects). Lectures are useless, better off learning from youtube. AVOID PLEASE.\n",
            "</div>, <div class=\"Comments__StyledComments-dzzyvm-0 gRjWel\">Very knowledgeable about the topic he teaches, however the lectures are relatively dry. There are two weeks left till the semester ends and he still hasn't graded a single thing like what the other reviews said. All group projects are randomized, you get new members for every project, so good luck if you get someone who doesn't contribute anything.</div>, <div class=\"Comments__StyledComments-dzzyvm-0 gRjWel\">He doesn't grade anything all semester, so you have no idea if you're even doing projects correctly. He says the class is designed for beginners, but the very first project is literally back-end game development that just feels overwhelming when learning about APIs. Semester long projects with group member rotation, useless lectures.</div>, <div class=\"Comments__StyledComments-dzzyvm-0 gRjWel\">All the negative reviews are coming from ppl who are expecting to cheat/google their way through a csdegree. If youre one of those ppl, dont take his class. IF you want to learn a lot about the subject, pay attention and participate in his lecture and discussion!</div>, <div class=\"Comments__StyledComments-dzzyvm-0 gRjWel\">He'll spend 2 hours of lecture responding to random questions posted on canvas and then 1 hour talking about concepts for the subject of that given week. He doesn't show you how to code, he just gives you links to documentation and you basically teach yourself the technologies. Projects are a lot of work, you could get unlucky with a bad group.</div>, <div class=\"Comments__StyledComments-dzzyvm-0 gRjWel\">He does not grade until the end of the semester, until then you have no idea what your grade will be. Only group projects built around one big project, final group was randomized for no reason.  He doesnt teach ANY code during lecture, only office hours (essential for projects).  Lectures are useless, better off learning from youtube. AVOID PLEASE.</div>, <div class=\"Comments__StyledComments-dzzyvm-0 gRjWel\">Nice guy. Explains concepts very clearly. If you stick with it &amp; work hard you'll be ok, but an A definitely isn't a given. You have to be extremely prepared in order to ace tests. I suggest looking up videos on concepts before lectures to better follow. It's a stressful class for some, but course is pretty fair besides that. Curves final grade</div>, <div class=\"Comments__StyledComments-dzzyvm-0 gRjWel\">If you're going to take him for 483 be prepared to study your ass off, missing one class might set you back a bit. He's a nice guy and knows the subject well but is extremely tough on grading both for projects and exams. If you're eager about the subject he's the right teacher, otherwise I wouldn't bother the stress.</div>, <div class=\"Comments__StyledComments-dzzyvm-0 gRjWel\">Avery is genuinely one of the best professors at CSUF. If you're the type of student who does the bare minimum and is googling most of their HW (you know who these people are) you'll have a rough time, but if you pay attention and takes notes and do the work/readings it's a pretty easy A.</div>, <div class=\"Comments__StyledComments-dzzyvm-0 gRjWel\">Machine learning is a DIFFICULT class. I think Avery does a good job at teaching the concepts but be prepared to do self study and maybe cry a bit. Sometimes his projects can be unclear and he takes a long time to grade things. You definitely don't want to miss classes if you can avoid it.</div>, <div class=\"Comments__StyledComments-dzzyvm-0 gRjWel\">The projects are hard to follow. You have to ask him to clarify some questions. The project is also worth 30% of your grade. He's a tough grader and the lecture is kind of boring and long. Too much info is being given in a 3hr class that it's hard to absorb all of the info. Doesn't help that he also does not share class recordings.</div>, <div class=\"Comments__StyledComments-dzzyvm-0 gRjWel\">Even 1 is too high for him. Simply put, stay away from this professor. His class is the most boring one I've ever taken, and his instruction on projects is a disaster. He records the class but doesn't provide you with recordings...</div>, <div class=\"Comments__StyledComments-dzzyvm-0 gRjWel\">Avery is a great professor. The exams are conceptual so read the book and pay attention to the lectures. Group projects are made so that you will really learn so make sure you start early. He can come off as rude but he is always willing to help.</div>, <div class=\"Comments__StyledComments-dzzyvm-0 gRjWel\">Professor Avery is the BEST professor at CSUF. This man knows his sh*t inside and out. He does a GREAT job of explaining concepts. The negative reviews are from those who failed because they didn't put in the work. Avery is a fair grader and will always help you outside of class. I would take him for EVERY class if I could. Best professor ever.</div>, <div class=\"Comments__StyledComments-dzzyvm-0 gRjWel\">He teaches well! After attending his class, the textbook gets easy to read. He gives real-world knowledge!</div>, <div class=\"Comments__StyledComments-dzzyvm-0 gRjWel\">Kenytt is probably the best professor at CSUF. That's not a hard feat to accomplish - especially in the CS department here, but nevertheless i think he is a great teacher. He teaches well, and makes you work for it. It's how I imagined a proper college course would go. I respect him a lot. He can be rude at times but that's just how he is.</div>, <div class=\"Comments__StyledComments-dzzyvm-0 gRjWel\">He is a knowledgeable professor in the Machine learning field. He teaches stuff in lecture time. You can learn something from his classes. He assigns the projects in detail and with helpful links on somewhere setup things. All your time will be saved to do your project instead of figuring out new software. You need a lot of deep reading.</div>]\n",
            "[<div class=\"Comments__StyledComments-dzzyvm-0 gRjWel\">He teaches NOTHING during lecture, no code, no helpful lecture. Not Grading for the whole semester and he'll grade it after final project. Member of project are random. Project 1 is at almost first half semester, and Project 2,3,4 are on the last month of semester WHYY. Please AVOID at all COST and don't believe in positive review.</div>, <div class=\"Comments__StyledComments-dzzyvm-0 gRjWel\">One of the best professors at csuf for cs department in my opinion. Just make sure to keep up with the learning material and don't miss any assignments because they build on top of each other concept wise. </div>, <div class=\"Comments__StyledComments-dzzyvm-0 gRjWel\">He didn't grade for a long time. The greatest challenge is trying to figure out how his notes apply to the assignment.\n",
            "</div>, <div class=\"Comments__StyledComments-dzzyvm-0 gRjWel\">He does not grade until the end of the semester, until then you have no idea what your grade will be. Only group projects built around one big project, final group was randomized for no reason. He doesnt teach ANY code during lecture, only office hours (essential for projects). Lectures are useless, better off learning from youtube. AVOID PLEASE.\n",
            "</div>, <div class=\"Comments__StyledComments-dzzyvm-0 gRjWel\">Very knowledgeable about the topic he teaches, however the lectures are relatively dry. There are two weeks left till the semester ends and he still hasn't graded a single thing like what the other reviews said. All group projects are randomized, you get new members for every project, so good luck if you get someone who doesn't contribute anything.</div>, <div class=\"Comments__StyledComments-dzzyvm-0 gRjWel\">He doesn't grade anything all semester, so you have no idea if you're even doing projects correctly. He says the class is designed for beginners, but the very first project is literally back-end game development that just feels overwhelming when learning about APIs. Semester long projects with group member rotation, useless lectures.</div>, <div class=\"Comments__StyledComments-dzzyvm-0 gRjWel\">All the negative reviews are coming from ppl who are expecting to cheat/google their way through a csdegree. If youre one of those ppl, dont take his class. IF you want to learn a lot about the subject, pay attention and participate in his lecture and discussion!</div>, <div class=\"Comments__StyledComments-dzzyvm-0 gRjWel\">He'll spend 2 hours of lecture responding to random questions posted on canvas and then 1 hour talking about concepts for the subject of that given week. He doesn't show you how to code, he just gives you links to documentation and you basically teach yourself the technologies. Projects are a lot of work, you could get unlucky with a bad group.</div>, <div class=\"Comments__StyledComments-dzzyvm-0 gRjWel\">He does not grade until the end of the semester, until then you have no idea what your grade will be. Only group projects built around one big project, final group was randomized for no reason.  He doesnt teach ANY code during lecture, only office hours (essential for projects).  Lectures are useless, better off learning from youtube. AVOID PLEASE.</div>, <div class=\"Comments__StyledComments-dzzyvm-0 gRjWel\">Nice guy. Explains concepts very clearly. If you stick with it &amp; work hard you'll be ok, but an A definitely isn't a given. You have to be extremely prepared in order to ace tests. I suggest looking up videos on concepts before lectures to better follow. It's a stressful class for some, but course is pretty fair besides that. Curves final grade</div>, <div class=\"Comments__StyledComments-dzzyvm-0 gRjWel\">If you're going to take him for 483 be prepared to study your ass off, missing one class might set you back a bit. He's a nice guy and knows the subject well but is extremely tough on grading both for projects and exams. If you're eager about the subject he's the right teacher, otherwise I wouldn't bother the stress.</div>, <div class=\"Comments__StyledComments-dzzyvm-0 gRjWel\">Avery is genuinely one of the best professors at CSUF. If you're the type of student who does the bare minimum and is googling most of their HW (you know who these people are) you'll have a rough time, but if you pay attention and takes notes and do the work/readings it's a pretty easy A.</div>, <div class=\"Comments__StyledComments-dzzyvm-0 gRjWel\">Machine learning is a DIFFICULT class. I think Avery does a good job at teaching the concepts but be prepared to do self study and maybe cry a bit. Sometimes his projects can be unclear and he takes a long time to grade things. You definitely don't want to miss classes if you can avoid it.</div>, <div class=\"Comments__StyledComments-dzzyvm-0 gRjWel\">The projects are hard to follow. You have to ask him to clarify some questions. The project is also worth 30% of your grade. He's a tough grader and the lecture is kind of boring and long. Too much info is being given in a 3hr class that it's hard to absorb all of the info. Doesn't help that he also does not share class recordings.</div>, <div class=\"Comments__StyledComments-dzzyvm-0 gRjWel\">Even 1 is too high for him. Simply put, stay away from this professor. His class is the most boring one I've ever taken, and his instruction on projects is a disaster. He records the class but doesn't provide you with recordings...</div>, <div class=\"Comments__StyledComments-dzzyvm-0 gRjWel\">Avery is a great professor. The exams are conceptual so read the book and pay attention to the lectures. Group projects are made so that you will really learn so make sure you start early. He can come off as rude but he is always willing to help.</div>, <div class=\"Comments__StyledComments-dzzyvm-0 gRjWel\">Professor Avery is the BEST professor at CSUF. This man knows his sh*t inside and out. He does a GREAT job of explaining concepts. The negative reviews are from those who failed because they didn't put in the work. Avery is a fair grader and will always help you outside of class. I would take him for EVERY class if I could. Best professor ever.</div>, <div class=\"Comments__StyledComments-dzzyvm-0 gRjWel\">He teaches well! After attending his class, the textbook gets easy to read. He gives real-world knowledge!</div>, <div class=\"Comments__StyledComments-dzzyvm-0 gRjWel\">Kenytt is probably the best professor at CSUF. That's not a hard feat to accomplish - especially in the CS department here, but nevertheless i think he is a great teacher. He teaches well, and makes you work for it. It's how I imagined a proper college course would go. I respect him a lot. He can be rude at times but that's just how he is.</div>, <div class=\"Comments__StyledComments-dzzyvm-0 gRjWel\">He is a knowledgeable professor in the Machine learning field. He teaches stuff in lecture time. You can learn something from his classes. He assigns the projects in detail and with helpful links on somewhere setup things. All your time will be saved to do your project instead of figuring out new software. You need a lot of deep reading.</div>]\n",
            "[<div class=\"Comments__StyledComments-dzzyvm-0 gRjWel\">He teaches NOTHING during lecture, no code, no helpful lecture. Not Grading for the whole semester and he'll grade it after final project. Member of project are random. Project 1 is at almost first half semester, and Project 2,3,4 are on the last month of semester WHYY. Please AVOID at all COST and don't believe in positive review.</div>, <div class=\"Comments__StyledComments-dzzyvm-0 gRjWel\">One of the best professors at csuf for cs department in my opinion. Just make sure to keep up with the learning material and don't miss any assignments because they build on top of each other concept wise. </div>, <div class=\"Comments__StyledComments-dzzyvm-0 gRjWel\">He didn't grade for a long time. The greatest challenge is trying to figure out how his notes apply to the assignment.\n",
            "</div>, <div class=\"Comments__StyledComments-dzzyvm-0 gRjWel\">He does not grade until the end of the semester, until then you have no idea what your grade will be. Only group projects built around one big project, final group was randomized for no reason. He doesnt teach ANY code during lecture, only office hours (essential for projects). Lectures are useless, better off learning from youtube. AVOID PLEASE.\n",
            "</div>, <div class=\"Comments__StyledComments-dzzyvm-0 gRjWel\">Very knowledgeable about the topic he teaches, however the lectures are relatively dry. There are two weeks left till the semester ends and he still hasn't graded a single thing like what the other reviews said. All group projects are randomized, you get new members for every project, so good luck if you get someone who doesn't contribute anything.</div>, <div class=\"Comments__StyledComments-dzzyvm-0 gRjWel\">He doesn't grade anything all semester, so you have no idea if you're even doing projects correctly. He says the class is designed for beginners, but the very first project is literally back-end game development that just feels overwhelming when learning about APIs. Semester long projects with group member rotation, useless lectures.</div>, <div class=\"Comments__StyledComments-dzzyvm-0 gRjWel\">All the negative reviews are coming from ppl who are expecting to cheat/google their way through a csdegree. If youre one of those ppl, dont take his class. IF you want to learn a lot about the subject, pay attention and participate in his lecture and discussion!</div>, <div class=\"Comments__StyledComments-dzzyvm-0 gRjWel\">He'll spend 2 hours of lecture responding to random questions posted on canvas and then 1 hour talking about concepts for the subject of that given week. He doesn't show you how to code, he just gives you links to documentation and you basically teach yourself the technologies. Projects are a lot of work, you could get unlucky with a bad group.</div>, <div class=\"Comments__StyledComments-dzzyvm-0 gRjWel\">He does not grade until the end of the semester, until then you have no idea what your grade will be. Only group projects built around one big project, final group was randomized for no reason.  He doesnt teach ANY code during lecture, only office hours (essential for projects).  Lectures are useless, better off learning from youtube. AVOID PLEASE.</div>, <div class=\"Comments__StyledComments-dzzyvm-0 gRjWel\">Nice guy. Explains concepts very clearly. If you stick with it &amp; work hard you'll be ok, but an A definitely isn't a given. You have to be extremely prepared in order to ace tests. I suggest looking up videos on concepts before lectures to better follow. It's a stressful class for some, but course is pretty fair besides that. Curves final grade</div>, <div class=\"Comments__StyledComments-dzzyvm-0 gRjWel\">If you're going to take him for 483 be prepared to study your ass off, missing one class might set you back a bit. He's a nice guy and knows the subject well but is extremely tough on grading both for projects and exams. If you're eager about the subject he's the right teacher, otherwise I wouldn't bother the stress.</div>, <div class=\"Comments__StyledComments-dzzyvm-0 gRjWel\">Avery is genuinely one of the best professors at CSUF. If you're the type of student who does the bare minimum and is googling most of their HW (you know who these people are) you'll have a rough time, but if you pay attention and takes notes and do the work/readings it's a pretty easy A.</div>, <div class=\"Comments__StyledComments-dzzyvm-0 gRjWel\">Machine learning is a DIFFICULT class. I think Avery does a good job at teaching the concepts but be prepared to do self study and maybe cry a bit. Sometimes his projects can be unclear and he takes a long time to grade things. You definitely don't want to miss classes if you can avoid it.</div>, <div class=\"Comments__StyledComments-dzzyvm-0 gRjWel\">The projects are hard to follow. You have to ask him to clarify some questions. The project is also worth 30% of your grade. He's a tough grader and the lecture is kind of boring and long. Too much info is being given in a 3hr class that it's hard to absorb all of the info. Doesn't help that he also does not share class recordings.</div>, <div class=\"Comments__StyledComments-dzzyvm-0 gRjWel\">Even 1 is too high for him. Simply put, stay away from this professor. His class is the most boring one I've ever taken, and his instruction on projects is a disaster. He records the class but doesn't provide you with recordings...</div>, <div class=\"Comments__StyledComments-dzzyvm-0 gRjWel\">Avery is a great professor. The exams are conceptual so read the book and pay attention to the lectures. Group projects are made so that you will really learn so make sure you start early. He can come off as rude but he is always willing to help.</div>, <div class=\"Comments__StyledComments-dzzyvm-0 gRjWel\">Professor Avery is the BEST professor at CSUF. This man knows his sh*t inside and out. He does a GREAT job of explaining concepts. The negative reviews are from those who failed because they didn't put in the work. Avery is a fair grader and will always help you outside of class. I would take him for EVERY class if I could. Best professor ever.</div>, <div class=\"Comments__StyledComments-dzzyvm-0 gRjWel\">He teaches well! After attending his class, the textbook gets easy to read. He gives real-world knowledge!</div>, <div class=\"Comments__StyledComments-dzzyvm-0 gRjWel\">Kenytt is probably the best professor at CSUF. That's not a hard feat to accomplish - especially in the CS department here, but nevertheless i think he is a great teacher. He teaches well, and makes you work for it. It's how I imagined a proper college course would go. I respect him a lot. He can be rude at times but that's just how he is.</div>, <div class=\"Comments__StyledComments-dzzyvm-0 gRjWel\">He is a knowledgeable professor in the Machine learning field. He teaches stuff in lecture time. You can learn something from his classes. He assigns the projects in detail and with helpful links on somewhere setup things. All your time will be saved to do your project instead of figuring out new software. You need a lot of deep reading.</div>]\n",
            "[<div class=\"Comments__StyledComments-dzzyvm-0 gRjWel\">He teaches NOTHING during lecture, no code, no helpful lecture. Not Grading for the whole semester and he'll grade it after final project. Member of project are random. Project 1 is at almost first half semester, and Project 2,3,4 are on the last month of semester WHYY. Please AVOID at all COST and don't believe in positive review.</div>, <div class=\"Comments__StyledComments-dzzyvm-0 gRjWel\">One of the best professors at csuf for cs department in my opinion. Just make sure to keep up with the learning material and don't miss any assignments because they build on top of each other concept wise. </div>, <div class=\"Comments__StyledComments-dzzyvm-0 gRjWel\">He didn't grade for a long time. The greatest challenge is trying to figure out how his notes apply to the assignment.\n",
            "</div>, <div class=\"Comments__StyledComments-dzzyvm-0 gRjWel\">He does not grade until the end of the semester, until then you have no idea what your grade will be. Only group projects built around one big project, final group was randomized for no reason. He doesnt teach ANY code during lecture, only office hours (essential for projects). Lectures are useless, better off learning from youtube. AVOID PLEASE.\n",
            "</div>, <div class=\"Comments__StyledComments-dzzyvm-0 gRjWel\">Very knowledgeable about the topic he teaches, however the lectures are relatively dry. There are two weeks left till the semester ends and he still hasn't graded a single thing like what the other reviews said. All group projects are randomized, you get new members for every project, so good luck if you get someone who doesn't contribute anything.</div>, <div class=\"Comments__StyledComments-dzzyvm-0 gRjWel\">He doesn't grade anything all semester, so you have no idea if you're even doing projects correctly. He says the class is designed for beginners, but the very first project is literally back-end game development that just feels overwhelming when learning about APIs. Semester long projects with group member rotation, useless lectures.</div>, <div class=\"Comments__StyledComments-dzzyvm-0 gRjWel\">All the negative reviews are coming from ppl who are expecting to cheat/google their way through a csdegree. If youre one of those ppl, dont take his class. IF you want to learn a lot about the subject, pay attention and participate in his lecture and discussion!</div>, <div class=\"Comments__StyledComments-dzzyvm-0 gRjWel\">He'll spend 2 hours of lecture responding to random questions posted on canvas and then 1 hour talking about concepts for the subject of that given week. He doesn't show you how to code, he just gives you links to documentation and you basically teach yourself the technologies. Projects are a lot of work, you could get unlucky with a bad group.</div>, <div class=\"Comments__StyledComments-dzzyvm-0 gRjWel\">He does not grade until the end of the semester, until then you have no idea what your grade will be. Only group projects built around one big project, final group was randomized for no reason.  He doesnt teach ANY code during lecture, only office hours (essential for projects).  Lectures are useless, better off learning from youtube. AVOID PLEASE.</div>, <div class=\"Comments__StyledComments-dzzyvm-0 gRjWel\">Nice guy. Explains concepts very clearly. If you stick with it &amp; work hard you'll be ok, but an A definitely isn't a given. You have to be extremely prepared in order to ace tests. I suggest looking up videos on concepts before lectures to better follow. It's a stressful class for some, but course is pretty fair besides that. Curves final grade</div>, <div class=\"Comments__StyledComments-dzzyvm-0 gRjWel\">If you're going to take him for 483 be prepared to study your ass off, missing one class might set you back a bit. He's a nice guy and knows the subject well but is extremely tough on grading both for projects and exams. If you're eager about the subject he's the right teacher, otherwise I wouldn't bother the stress.</div>, <div class=\"Comments__StyledComments-dzzyvm-0 gRjWel\">Avery is genuinely one of the best professors at CSUF. If you're the type of student who does the bare minimum and is googling most of their HW (you know who these people are) you'll have a rough time, but if you pay attention and takes notes and do the work/readings it's a pretty easy A.</div>, <div class=\"Comments__StyledComments-dzzyvm-0 gRjWel\">Machine learning is a DIFFICULT class. I think Avery does a good job at teaching the concepts but be prepared to do self study and maybe cry a bit. Sometimes his projects can be unclear and he takes a long time to grade things. You definitely don't want to miss classes if you can avoid it.</div>, <div class=\"Comments__StyledComments-dzzyvm-0 gRjWel\">The projects are hard to follow. You have to ask him to clarify some questions. The project is also worth 30% of your grade. He's a tough grader and the lecture is kind of boring and long. Too much info is being given in a 3hr class that it's hard to absorb all of the info. Doesn't help that he also does not share class recordings.</div>, <div class=\"Comments__StyledComments-dzzyvm-0 gRjWel\">Even 1 is too high for him. Simply put, stay away from this professor. His class is the most boring one I've ever taken, and his instruction on projects is a disaster. He records the class but doesn't provide you with recordings...</div>, <div class=\"Comments__StyledComments-dzzyvm-0 gRjWel\">Avery is a great professor. The exams are conceptual so read the book and pay attention to the lectures. Group projects are made so that you will really learn so make sure you start early. He can come off as rude but he is always willing to help.</div>, <div class=\"Comments__StyledComments-dzzyvm-0 gRjWel\">Professor Avery is the BEST professor at CSUF. This man knows his sh*t inside and out. He does a GREAT job of explaining concepts. The negative reviews are from those who failed because they didn't put in the work. Avery is a fair grader and will always help you outside of class. I would take him for EVERY class if I could. Best professor ever.</div>, <div class=\"Comments__StyledComments-dzzyvm-0 gRjWel\">He teaches well! After attending his class, the textbook gets easy to read. He gives real-world knowledge!</div>, <div class=\"Comments__StyledComments-dzzyvm-0 gRjWel\">Kenytt is probably the best professor at CSUF. That's not a hard feat to accomplish - especially in the CS department here, but nevertheless i think he is a great teacher. He teaches well, and makes you work for it. It's how I imagined a proper college course would go. I respect him a lot. He can be rude at times but that's just how he is.</div>, <div class=\"Comments__StyledComments-dzzyvm-0 gRjWel\">He is a knowledgeable professor in the Machine learning field. He teaches stuff in lecture time. You can learn something from his classes. He assigns the projects in detail and with helpful links on somewhere setup things. All your time will be saved to do your project instead of figuring out new software. You need a lot of deep reading.</div>]\n",
            "[<div class=\"Comments__StyledComments-dzzyvm-0 gRjWel\">He teaches NOTHING during lecture, no code, no helpful lecture. Not Grading for the whole semester and he'll grade it after final project. Member of project are random. Project 1 is at almost first half semester, and Project 2,3,4 are on the last month of semester WHYY. Please AVOID at all COST and don't believe in positive review.</div>, <div class=\"Comments__StyledComments-dzzyvm-0 gRjWel\">One of the best professors at csuf for cs department in my opinion. Just make sure to keep up with the learning material and don't miss any assignments because they build on top of each other concept wise. </div>, <div class=\"Comments__StyledComments-dzzyvm-0 gRjWel\">He didn't grade for a long time. The greatest challenge is trying to figure out how his notes apply to the assignment.\n",
            "</div>, <div class=\"Comments__StyledComments-dzzyvm-0 gRjWel\">He does not grade until the end of the semester, until then you have no idea what your grade will be. Only group projects built around one big project, final group was randomized for no reason. He doesnt teach ANY code during lecture, only office hours (essential for projects). Lectures are useless, better off learning from youtube. AVOID PLEASE.\n",
            "</div>, <div class=\"Comments__StyledComments-dzzyvm-0 gRjWel\">Very knowledgeable about the topic he teaches, however the lectures are relatively dry. There are two weeks left till the semester ends and he still hasn't graded a single thing like what the other reviews said. All group projects are randomized, you get new members for every project, so good luck if you get someone who doesn't contribute anything.</div>, <div class=\"Comments__StyledComments-dzzyvm-0 gRjWel\">He doesn't grade anything all semester, so you have no idea if you're even doing projects correctly. He says the class is designed for beginners, but the very first project is literally back-end game development that just feels overwhelming when learning about APIs. Semester long projects with group member rotation, useless lectures.</div>, <div class=\"Comments__StyledComments-dzzyvm-0 gRjWel\">All the negative reviews are coming from ppl who are expecting to cheat/google their way through a csdegree. If youre one of those ppl, dont take his class. IF you want to learn a lot about the subject, pay attention and participate in his lecture and discussion!</div>, <div class=\"Comments__StyledComments-dzzyvm-0 gRjWel\">He'll spend 2 hours of lecture responding to random questions posted on canvas and then 1 hour talking about concepts for the subject of that given week. He doesn't show you how to code, he just gives you links to documentation and you basically teach yourself the technologies. Projects are a lot of work, you could get unlucky with a bad group.</div>, <div class=\"Comments__StyledComments-dzzyvm-0 gRjWel\">He does not grade until the end of the semester, until then you have no idea what your grade will be. Only group projects built around one big project, final group was randomized for no reason.  He doesnt teach ANY code during lecture, only office hours (essential for projects).  Lectures are useless, better off learning from youtube. AVOID PLEASE.</div>, <div class=\"Comments__StyledComments-dzzyvm-0 gRjWel\">Nice guy. Explains concepts very clearly. If you stick with it &amp; work hard you'll be ok, but an A definitely isn't a given. You have to be extremely prepared in order to ace tests. I suggest looking up videos on concepts before lectures to better follow. It's a stressful class for some, but course is pretty fair besides that. Curves final grade</div>, <div class=\"Comments__StyledComments-dzzyvm-0 gRjWel\">If you're going to take him for 483 be prepared to study your ass off, missing one class might set you back a bit. He's a nice guy and knows the subject well but is extremely tough on grading both for projects and exams. If you're eager about the subject he's the right teacher, otherwise I wouldn't bother the stress.</div>, <div class=\"Comments__StyledComments-dzzyvm-0 gRjWel\">Avery is genuinely one of the best professors at CSUF. If you're the type of student who does the bare minimum and is googling most of their HW (you know who these people are) you'll have a rough time, but if you pay attention and takes notes and do the work/readings it's a pretty easy A.</div>, <div class=\"Comments__StyledComments-dzzyvm-0 gRjWel\">Machine learning is a DIFFICULT class. I think Avery does a good job at teaching the concepts but be prepared to do self study and maybe cry a bit. Sometimes his projects can be unclear and he takes a long time to grade things. You definitely don't want to miss classes if you can avoid it.</div>, <div class=\"Comments__StyledComments-dzzyvm-0 gRjWel\">The projects are hard to follow. You have to ask him to clarify some questions. The project is also worth 30% of your grade. He's a tough grader and the lecture is kind of boring and long. Too much info is being given in a 3hr class that it's hard to absorb all of the info. Doesn't help that he also does not share class recordings.</div>, <div class=\"Comments__StyledComments-dzzyvm-0 gRjWel\">Even 1 is too high for him. Simply put, stay away from this professor. His class is the most boring one I've ever taken, and his instruction on projects is a disaster. He records the class but doesn't provide you with recordings...</div>, <div class=\"Comments__StyledComments-dzzyvm-0 gRjWel\">Avery is a great professor. The exams are conceptual so read the book and pay attention to the lectures. Group projects are made so that you will really learn so make sure you start early. He can come off as rude but he is always willing to help.</div>, <div class=\"Comments__StyledComments-dzzyvm-0 gRjWel\">Professor Avery is the BEST professor at CSUF. This man knows his sh*t inside and out. He does a GREAT job of explaining concepts. The negative reviews are from those who failed because they didn't put in the work. Avery is a fair grader and will always help you outside of class. I would take him for EVERY class if I could. Best professor ever.</div>, <div class=\"Comments__StyledComments-dzzyvm-0 gRjWel\">He teaches well! After attending his class, the textbook gets easy to read. He gives real-world knowledge!</div>, <div class=\"Comments__StyledComments-dzzyvm-0 gRjWel\">Kenytt is probably the best professor at CSUF. That's not a hard feat to accomplish - especially in the CS department here, but nevertheless i think he is a great teacher. He teaches well, and makes you work for it. It's how I imagined a proper college course would go. I respect him a lot. He can be rude at times but that's just how he is.</div>, <div class=\"Comments__StyledComments-dzzyvm-0 gRjWel\">He is a knowledgeable professor in the Machine learning field. He teaches stuff in lecture time. You can learn something from his classes. He assigns the projects in detail and with helpful links on somewhere setup things. All your time will be saved to do your project instead of figuring out new software. You need a lot of deep reading.</div>]\n",
            "[<div class=\"Comments__StyledComments-dzzyvm-0 gRjWel\">He teaches NOTHING during lecture, no code, no helpful lecture. Not Grading for the whole semester and he'll grade it after final project. Member of project are random. Project 1 is at almost first half semester, and Project 2,3,4 are on the last month of semester WHYY. Please AVOID at all COST and don't believe in positive review.</div>, <div class=\"Comments__StyledComments-dzzyvm-0 gRjWel\">One of the best professors at csuf for cs department in my opinion. Just make sure to keep up with the learning material and don't miss any assignments because they build on top of each other concept wise. </div>, <div class=\"Comments__StyledComments-dzzyvm-0 gRjWel\">He didn't grade for a long time. The greatest challenge is trying to figure out how his notes apply to the assignment.\n",
            "</div>, <div class=\"Comments__StyledComments-dzzyvm-0 gRjWel\">He does not grade until the end of the semester, until then you have no idea what your grade will be. Only group projects built around one big project, final group was randomized for no reason. He doesnt teach ANY code during lecture, only office hours (essential for projects). Lectures are useless, better off learning from youtube. AVOID PLEASE.\n",
            "</div>, <div class=\"Comments__StyledComments-dzzyvm-0 gRjWel\">Very knowledgeable about the topic he teaches, however the lectures are relatively dry. There are two weeks left till the semester ends and he still hasn't graded a single thing like what the other reviews said. All group projects are randomized, you get new members for every project, so good luck if you get someone who doesn't contribute anything.</div>, <div class=\"Comments__StyledComments-dzzyvm-0 gRjWel\">He doesn't grade anything all semester, so you have no idea if you're even doing projects correctly. He says the class is designed for beginners, but the very first project is literally back-end game development that just feels overwhelming when learning about APIs. Semester long projects with group member rotation, useless lectures.</div>, <div class=\"Comments__StyledComments-dzzyvm-0 gRjWel\">All the negative reviews are coming from ppl who are expecting to cheat/google their way through a csdegree. If youre one of those ppl, dont take his class. IF you want to learn a lot about the subject, pay attention and participate in his lecture and discussion!</div>, <div class=\"Comments__StyledComments-dzzyvm-0 gRjWel\">He'll spend 2 hours of lecture responding to random questions posted on canvas and then 1 hour talking about concepts for the subject of that given week. He doesn't show you how to code, he just gives you links to documentation and you basically teach yourself the technologies. Projects are a lot of work, you could get unlucky with a bad group.</div>, <div class=\"Comments__StyledComments-dzzyvm-0 gRjWel\">He does not grade until the end of the semester, until then you have no idea what your grade will be. Only group projects built around one big project, final group was randomized for no reason.  He doesnt teach ANY code during lecture, only office hours (essential for projects).  Lectures are useless, better off learning from youtube. AVOID PLEASE.</div>, <div class=\"Comments__StyledComments-dzzyvm-0 gRjWel\">Nice guy. Explains concepts very clearly. If you stick with it &amp; work hard you'll be ok, but an A definitely isn't a given. You have to be extremely prepared in order to ace tests. I suggest looking up videos on concepts before lectures to better follow. It's a stressful class for some, but course is pretty fair besides that. Curves final grade</div>, <div class=\"Comments__StyledComments-dzzyvm-0 gRjWel\">If you're going to take him for 483 be prepared to study your ass off, missing one class might set you back a bit. He's a nice guy and knows the subject well but is extremely tough on grading both for projects and exams. If you're eager about the subject he's the right teacher, otherwise I wouldn't bother the stress.</div>, <div class=\"Comments__StyledComments-dzzyvm-0 gRjWel\">Avery is genuinely one of the best professors at CSUF. If you're the type of student who does the bare minimum and is googling most of their HW (you know who these people are) you'll have a rough time, but if you pay attention and takes notes and do the work/readings it's a pretty easy A.</div>, <div class=\"Comments__StyledComments-dzzyvm-0 gRjWel\">Machine learning is a DIFFICULT class. I think Avery does a good job at teaching the concepts but be prepared to do self study and maybe cry a bit. Sometimes his projects can be unclear and he takes a long time to grade things. You definitely don't want to miss classes if you can avoid it.</div>, <div class=\"Comments__StyledComments-dzzyvm-0 gRjWel\">The projects are hard to follow. You have to ask him to clarify some questions. The project is also worth 30% of your grade. He's a tough grader and the lecture is kind of boring and long. Too much info is being given in a 3hr class that it's hard to absorb all of the info. Doesn't help that he also does not share class recordings.</div>, <div class=\"Comments__StyledComments-dzzyvm-0 gRjWel\">Even 1 is too high for him. Simply put, stay away from this professor. His class is the most boring one I've ever taken, and his instruction on projects is a disaster. He records the class but doesn't provide you with recordings...</div>, <div class=\"Comments__StyledComments-dzzyvm-0 gRjWel\">Avery is a great professor. The exams are conceptual so read the book and pay attention to the lectures. Group projects are made so that you will really learn so make sure you start early. He can come off as rude but he is always willing to help.</div>, <div class=\"Comments__StyledComments-dzzyvm-0 gRjWel\">Professor Avery is the BEST professor at CSUF. This man knows his sh*t inside and out. He does a GREAT job of explaining concepts. The negative reviews are from those who failed because they didn't put in the work. Avery is a fair grader and will always help you outside of class. I would take him for EVERY class if I could. Best professor ever.</div>, <div class=\"Comments__StyledComments-dzzyvm-0 gRjWel\">He teaches well! After attending his class, the textbook gets easy to read. He gives real-world knowledge!</div>, <div class=\"Comments__StyledComments-dzzyvm-0 gRjWel\">Kenytt is probably the best professor at CSUF. That's not a hard feat to accomplish - especially in the CS department here, but nevertheless i think he is a great teacher. He teaches well, and makes you work for it. It's how I imagined a proper college course would go. I respect him a lot. He can be rude at times but that's just how he is.</div>, <div class=\"Comments__StyledComments-dzzyvm-0 gRjWel\">He is a knowledgeable professor in the Machine learning field. He teaches stuff in lecture time. You can learn something from his classes. He assigns the projects in detail and with helpful links on somewhere setup things. All your time will be saved to do your project instead of figuring out new software. You need a lot of deep reading.</div>]\n",
            "[<div class=\"Comments__StyledComments-dzzyvm-0 gRjWel\">He teaches NOTHING during lecture, no code, no helpful lecture. Not Grading for the whole semester and he'll grade it after final project. Member of project are random. Project 1 is at almost first half semester, and Project 2,3,4 are on the last month of semester WHYY. Please AVOID at all COST and don't believe in positive review.</div>, <div class=\"Comments__StyledComments-dzzyvm-0 gRjWel\">One of the best professors at csuf for cs department in my opinion. Just make sure to keep up with the learning material and don't miss any assignments because they build on top of each other concept wise. </div>, <div class=\"Comments__StyledComments-dzzyvm-0 gRjWel\">He didn't grade for a long time. The greatest challenge is trying to figure out how his notes apply to the assignment.\n",
            "</div>, <div class=\"Comments__StyledComments-dzzyvm-0 gRjWel\">He does not grade until the end of the semester, until then you have no idea what your grade will be. Only group projects built around one big project, final group was randomized for no reason. He doesnt teach ANY code during lecture, only office hours (essential for projects). Lectures are useless, better off learning from youtube. AVOID PLEASE.\n",
            "</div>, <div class=\"Comments__StyledComments-dzzyvm-0 gRjWel\">Very knowledgeable about the topic he teaches, however the lectures are relatively dry. There are two weeks left till the semester ends and he still hasn't graded a single thing like what the other reviews said. All group projects are randomized, you get new members for every project, so good luck if you get someone who doesn't contribute anything.</div>, <div class=\"Comments__StyledComments-dzzyvm-0 gRjWel\">He doesn't grade anything all semester, so you have no idea if you're even doing projects correctly. He says the class is designed for beginners, but the very first project is literally back-end game development that just feels overwhelming when learning about APIs. Semester long projects with group member rotation, useless lectures.</div>, <div class=\"Comments__StyledComments-dzzyvm-0 gRjWel\">All the negative reviews are coming from ppl who are expecting to cheat/google their way through a csdegree. If youre one of those ppl, dont take his class. IF you want to learn a lot about the subject, pay attention and participate in his lecture and discussion!</div>, <div class=\"Comments__StyledComments-dzzyvm-0 gRjWel\">He'll spend 2 hours of lecture responding to random questions posted on canvas and then 1 hour talking about concepts for the subject of that given week. He doesn't show you how to code, he just gives you links to documentation and you basically teach yourself the technologies. Projects are a lot of work, you could get unlucky with a bad group.</div>, <div class=\"Comments__StyledComments-dzzyvm-0 gRjWel\">He does not grade until the end of the semester, until then you have no idea what your grade will be. Only group projects built around one big project, final group was randomized for no reason.  He doesnt teach ANY code during lecture, only office hours (essential for projects).  Lectures are useless, better off learning from youtube. AVOID PLEASE.</div>, <div class=\"Comments__StyledComments-dzzyvm-0 gRjWel\">Nice guy. Explains concepts very clearly. If you stick with it &amp; work hard you'll be ok, but an A definitely isn't a given. You have to be extremely prepared in order to ace tests. I suggest looking up videos on concepts before lectures to better follow. It's a stressful class for some, but course is pretty fair besides that. Curves final grade</div>, <div class=\"Comments__StyledComments-dzzyvm-0 gRjWel\">If you're going to take him for 483 be prepared to study your ass off, missing one class might set you back a bit. He's a nice guy and knows the subject well but is extremely tough on grading both for projects and exams. If you're eager about the subject he's the right teacher, otherwise I wouldn't bother the stress.</div>, <div class=\"Comments__StyledComments-dzzyvm-0 gRjWel\">Avery is genuinely one of the best professors at CSUF. If you're the type of student who does the bare minimum and is googling most of their HW (you know who these people are) you'll have a rough time, but if you pay attention and takes notes and do the work/readings it's a pretty easy A.</div>, <div class=\"Comments__StyledComments-dzzyvm-0 gRjWel\">Machine learning is a DIFFICULT class. I think Avery does a good job at teaching the concepts but be prepared to do self study and maybe cry a bit. Sometimes his projects can be unclear and he takes a long time to grade things. You definitely don't want to miss classes if you can avoid it.</div>, <div class=\"Comments__StyledComments-dzzyvm-0 gRjWel\">The projects are hard to follow. You have to ask him to clarify some questions. The project is also worth 30% of your grade. He's a tough grader and the lecture is kind of boring and long. Too much info is being given in a 3hr class that it's hard to absorb all of the info. Doesn't help that he also does not share class recordings.</div>, <div class=\"Comments__StyledComments-dzzyvm-0 gRjWel\">Even 1 is too high for him. Simply put, stay away from this professor. His class is the most boring one I've ever taken, and his instruction on projects is a disaster. He records the class but doesn't provide you with recordings...</div>, <div class=\"Comments__StyledComments-dzzyvm-0 gRjWel\">Avery is a great professor. The exams are conceptual so read the book and pay attention to the lectures. Group projects are made so that you will really learn so make sure you start early. He can come off as rude but he is always willing to help.</div>, <div class=\"Comments__StyledComments-dzzyvm-0 gRjWel\">Professor Avery is the BEST professor at CSUF. This man knows his sh*t inside and out. He does a GREAT job of explaining concepts. The negative reviews are from those who failed because they didn't put in the work. Avery is a fair grader and will always help you outside of class. I would take him for EVERY class if I could. Best professor ever.</div>, <div class=\"Comments__StyledComments-dzzyvm-0 gRjWel\">He teaches well! After attending his class, the textbook gets easy to read. He gives real-world knowledge!</div>, <div class=\"Comments__StyledComments-dzzyvm-0 gRjWel\">Kenytt is probably the best professor at CSUF. That's not a hard feat to accomplish - especially in the CS department here, but nevertheless i think he is a great teacher. He teaches well, and makes you work for it. It's how I imagined a proper college course would go. I respect him a lot. He can be rude at times but that's just how he is.</div>, <div class=\"Comments__StyledComments-dzzyvm-0 gRjWel\">He is a knowledgeable professor in the Machine learning field. He teaches stuff in lecture time. You can learn something from his classes. He assigns the projects in detail and with helpful links on somewhere setup things. All your time will be saved to do your project instead of figuring out new software. You need a lot of deep reading.</div>]\n",
            "[<div class=\"Comments__StyledComments-dzzyvm-0 gRjWel\">He teaches NOTHING during lecture, no code, no helpful lecture. Not Grading for the whole semester and he'll grade it after final project. Member of project are random. Project 1 is at almost first half semester, and Project 2,3,4 are on the last month of semester WHYY. Please AVOID at all COST and don't believe in positive review.</div>, <div class=\"Comments__StyledComments-dzzyvm-0 gRjWel\">One of the best professors at csuf for cs department in my opinion. Just make sure to keep up with the learning material and don't miss any assignments because they build on top of each other concept wise. </div>, <div class=\"Comments__StyledComments-dzzyvm-0 gRjWel\">He didn't grade for a long time. The greatest challenge is trying to figure out how his notes apply to the assignment.\n",
            "</div>, <div class=\"Comments__StyledComments-dzzyvm-0 gRjWel\">He does not grade until the end of the semester, until then you have no idea what your grade will be. Only group projects built around one big project, final group was randomized for no reason. He doesnt teach ANY code during lecture, only office hours (essential for projects). Lectures are useless, better off learning from youtube. AVOID PLEASE.\n",
            "</div>, <div class=\"Comments__StyledComments-dzzyvm-0 gRjWel\">Very knowledgeable about the topic he teaches, however the lectures are relatively dry. There are two weeks left till the semester ends and he still hasn't graded a single thing like what the other reviews said. All group projects are randomized, you get new members for every project, so good luck if you get someone who doesn't contribute anything.</div>, <div class=\"Comments__StyledComments-dzzyvm-0 gRjWel\">He doesn't grade anything all semester, so you have no idea if you're even doing projects correctly. He says the class is designed for beginners, but the very first project is literally back-end game development that just feels overwhelming when learning about APIs. Semester long projects with group member rotation, useless lectures.</div>, <div class=\"Comments__StyledComments-dzzyvm-0 gRjWel\">All the negative reviews are coming from ppl who are expecting to cheat/google their way through a csdegree. If youre one of those ppl, dont take his class. IF you want to learn a lot about the subject, pay attention and participate in his lecture and discussion!</div>, <div class=\"Comments__StyledComments-dzzyvm-0 gRjWel\">He'll spend 2 hours of lecture responding to random questions posted on canvas and then 1 hour talking about concepts for the subject of that given week. He doesn't show you how to code, he just gives you links to documentation and you basically teach yourself the technologies. Projects are a lot of work, you could get unlucky with a bad group.</div>, <div class=\"Comments__StyledComments-dzzyvm-0 gRjWel\">He does not grade until the end of the semester, until then you have no idea what your grade will be. Only group projects built around one big project, final group was randomized for no reason.  He doesnt teach ANY code during lecture, only office hours (essential for projects).  Lectures are useless, better off learning from youtube. AVOID PLEASE.</div>, <div class=\"Comments__StyledComments-dzzyvm-0 gRjWel\">Nice guy. Explains concepts very clearly. If you stick with it &amp; work hard you'll be ok, but an A definitely isn't a given. You have to be extremely prepared in order to ace tests. I suggest looking up videos on concepts before lectures to better follow. It's a stressful class for some, but course is pretty fair besides that. Curves final grade</div>, <div class=\"Comments__StyledComments-dzzyvm-0 gRjWel\">If you're going to take him for 483 be prepared to study your ass off, missing one class might set you back a bit. He's a nice guy and knows the subject well but is extremely tough on grading both for projects and exams. If you're eager about the subject he's the right teacher, otherwise I wouldn't bother the stress.</div>, <div class=\"Comments__StyledComments-dzzyvm-0 gRjWel\">Avery is genuinely one of the best professors at CSUF. If you're the type of student who does the bare minimum and is googling most of their HW (you know who these people are) you'll have a rough time, but if you pay attention and takes notes and do the work/readings it's a pretty easy A.</div>, <div class=\"Comments__StyledComments-dzzyvm-0 gRjWel\">Machine learning is a DIFFICULT class. I think Avery does a good job at teaching the concepts but be prepared to do self study and maybe cry a bit. Sometimes his projects can be unclear and he takes a long time to grade things. You definitely don't want to miss classes if you can avoid it.</div>, <div class=\"Comments__StyledComments-dzzyvm-0 gRjWel\">The projects are hard to follow. You have to ask him to clarify some questions. The project is also worth 30% of your grade. He's a tough grader and the lecture is kind of boring and long. Too much info is being given in a 3hr class that it's hard to absorb all of the info. Doesn't help that he also does not share class recordings.</div>, <div class=\"Comments__StyledComments-dzzyvm-0 gRjWel\">Even 1 is too high for him. Simply put, stay away from this professor. His class is the most boring one I've ever taken, and his instruction on projects is a disaster. He records the class but doesn't provide you with recordings...</div>, <div class=\"Comments__StyledComments-dzzyvm-0 gRjWel\">Avery is a great professor. The exams are conceptual so read the book and pay attention to the lectures. Group projects are made so that you will really learn so make sure you start early. He can come off as rude but he is always willing to help.</div>, <div class=\"Comments__StyledComments-dzzyvm-0 gRjWel\">Professor Avery is the BEST professor at CSUF. This man knows his sh*t inside and out. He does a GREAT job of explaining concepts. The negative reviews are from those who failed because they didn't put in the work. Avery is a fair grader and will always help you outside of class. I would take him for EVERY class if I could. Best professor ever.</div>, <div class=\"Comments__StyledComments-dzzyvm-0 gRjWel\">He teaches well! After attending his class, the textbook gets easy to read. He gives real-world knowledge!</div>, <div class=\"Comments__StyledComments-dzzyvm-0 gRjWel\">Kenytt is probably the best professor at CSUF. That's not a hard feat to accomplish - especially in the CS department here, but nevertheless i think he is a great teacher. He teaches well, and makes you work for it. It's how I imagined a proper college course would go. I respect him a lot. He can be rude at times but that's just how he is.</div>, <div class=\"Comments__StyledComments-dzzyvm-0 gRjWel\">He is a knowledgeable professor in the Machine learning field. He teaches stuff in lecture time. You can learn something from his classes. He assigns the projects in detail and with helpful links on somewhere setup things. All your time will be saved to do your project instead of figuring out new software. You need a lot of deep reading.</div>]\n",
            "[<div class=\"Comments__StyledComments-dzzyvm-0 gRjWel\">He teaches NOTHING during lecture, no code, no helpful lecture. Not Grading for the whole semester and he'll grade it after final project. Member of project are random. Project 1 is at almost first half semester, and Project 2,3,4 are on the last month of semester WHYY. Please AVOID at all COST and don't believe in positive review.</div>, <div class=\"Comments__StyledComments-dzzyvm-0 gRjWel\">One of the best professors at csuf for cs department in my opinion. Just make sure to keep up with the learning material and don't miss any assignments because they build on top of each other concept wise. </div>, <div class=\"Comments__StyledComments-dzzyvm-0 gRjWel\">He didn't grade for a long time. The greatest challenge is trying to figure out how his notes apply to the assignment.\n",
            "</div>, <div class=\"Comments__StyledComments-dzzyvm-0 gRjWel\">He does not grade until the end of the semester, until then you have no idea what your grade will be. Only group projects built around one big project, final group was randomized for no reason. He doesnt teach ANY code during lecture, only office hours (essential for projects). Lectures are useless, better off learning from youtube. AVOID PLEASE.\n",
            "</div>, <div class=\"Comments__StyledComments-dzzyvm-0 gRjWel\">Very knowledgeable about the topic he teaches, however the lectures are relatively dry. There are two weeks left till the semester ends and he still hasn't graded a single thing like what the other reviews said. All group projects are randomized, you get new members for every project, so good luck if you get someone who doesn't contribute anything.</div>, <div class=\"Comments__StyledComments-dzzyvm-0 gRjWel\">He doesn't grade anything all semester, so you have no idea if you're even doing projects correctly. He says the class is designed for beginners, but the very first project is literally back-end game development that just feels overwhelming when learning about APIs. Semester long projects with group member rotation, useless lectures.</div>, <div class=\"Comments__StyledComments-dzzyvm-0 gRjWel\">All the negative reviews are coming from ppl who are expecting to cheat/google their way through a csdegree. If youre one of those ppl, dont take his class. IF you want to learn a lot about the subject, pay attention and participate in his lecture and discussion!</div>, <div class=\"Comments__StyledComments-dzzyvm-0 gRjWel\">He'll spend 2 hours of lecture responding to random questions posted on canvas and then 1 hour talking about concepts for the subject of that given week. He doesn't show you how to code, he just gives you links to documentation and you basically teach yourself the technologies. Projects are a lot of work, you could get unlucky with a bad group.</div>, <div class=\"Comments__StyledComments-dzzyvm-0 gRjWel\">He does not grade until the end of the semester, until then you have no idea what your grade will be. Only group projects built around one big project, final group was randomized for no reason.  He doesnt teach ANY code during lecture, only office hours (essential for projects).  Lectures are useless, better off learning from youtube. AVOID PLEASE.</div>, <div class=\"Comments__StyledComments-dzzyvm-0 gRjWel\">Nice guy. Explains concepts very clearly. If you stick with it &amp; work hard you'll be ok, but an A definitely isn't a given. You have to be extremely prepared in order to ace tests. I suggest looking up videos on concepts before lectures to better follow. It's a stressful class for some, but course is pretty fair besides that. Curves final grade</div>, <div class=\"Comments__StyledComments-dzzyvm-0 gRjWel\">If you're going to take him for 483 be prepared to study your ass off, missing one class might set you back a bit. He's a nice guy and knows the subject well but is extremely tough on grading both for projects and exams. If you're eager about the subject he's the right teacher, otherwise I wouldn't bother the stress.</div>, <div class=\"Comments__StyledComments-dzzyvm-0 gRjWel\">Avery is genuinely one of the best professors at CSUF. If you're the type of student who does the bare minimum and is googling most of their HW (you know who these people are) you'll have a rough time, but if you pay attention and takes notes and do the work/readings it's a pretty easy A.</div>, <div class=\"Comments__StyledComments-dzzyvm-0 gRjWel\">Machine learning is a DIFFICULT class. I think Avery does a good job at teaching the concepts but be prepared to do self study and maybe cry a bit. Sometimes his projects can be unclear and he takes a long time to grade things. You definitely don't want to miss classes if you can avoid it.</div>, <div class=\"Comments__StyledComments-dzzyvm-0 gRjWel\">The projects are hard to follow. You have to ask him to clarify some questions. The project is also worth 30% of your grade. He's a tough grader and the lecture is kind of boring and long. Too much info is being given in a 3hr class that it's hard to absorb all of the info. Doesn't help that he also does not share class recordings.</div>, <div class=\"Comments__StyledComments-dzzyvm-0 gRjWel\">Even 1 is too high for him. Simply put, stay away from this professor. His class is the most boring one I've ever taken, and his instruction on projects is a disaster. He records the class but doesn't provide you with recordings...</div>, <div class=\"Comments__StyledComments-dzzyvm-0 gRjWel\">Avery is a great professor. The exams are conceptual so read the book and pay attention to the lectures. Group projects are made so that you will really learn so make sure you start early. He can come off as rude but he is always willing to help.</div>, <div class=\"Comments__StyledComments-dzzyvm-0 gRjWel\">Professor Avery is the BEST professor at CSUF. This man knows his sh*t inside and out. He does a GREAT job of explaining concepts. The negative reviews are from those who failed because they didn't put in the work. Avery is a fair grader and will always help you outside of class. I would take him for EVERY class if I could. Best professor ever.</div>, <div class=\"Comments__StyledComments-dzzyvm-0 gRjWel\">He teaches well! After attending his class, the textbook gets easy to read. He gives real-world knowledge!</div>, <div class=\"Comments__StyledComments-dzzyvm-0 gRjWel\">Kenytt is probably the best professor at CSUF. That's not a hard feat to accomplish - especially in the CS department here, but nevertheless i think he is a great teacher. He teaches well, and makes you work for it. It's how I imagined a proper college course would go. I respect him a lot. He can be rude at times but that's just how he is.</div>, <div class=\"Comments__StyledComments-dzzyvm-0 gRjWel\">He is a knowledgeable professor in the Machine learning field. He teaches stuff in lecture time. You can learn something from his classes. He assigns the projects in detail and with helpful links on somewhere setup things. All your time will be saved to do your project instead of figuring out new software. You need a lot of deep reading.</div>]\n",
            "[<div class=\"Comments__StyledComments-dzzyvm-0 gRjWel\">He teaches NOTHING during lecture, no code, no helpful lecture. Not Grading for the whole semester and he'll grade it after final project. Member of project are random. Project 1 is at almost first half semester, and Project 2,3,4 are on the last month of semester WHYY. Please AVOID at all COST and don't believe in positive review.</div>, <div class=\"Comments__StyledComments-dzzyvm-0 gRjWel\">One of the best professors at csuf for cs department in my opinion. Just make sure to keep up with the learning material and don't miss any assignments because they build on top of each other concept wise. </div>, <div class=\"Comments__StyledComments-dzzyvm-0 gRjWel\">He didn't grade for a long time. The greatest challenge is trying to figure out how his notes apply to the assignment.\n",
            "</div>, <div class=\"Comments__StyledComments-dzzyvm-0 gRjWel\">He does not grade until the end of the semester, until then you have no idea what your grade will be. Only group projects built around one big project, final group was randomized for no reason. He doesnt teach ANY code during lecture, only office hours (essential for projects). Lectures are useless, better off learning from youtube. AVOID PLEASE.\n",
            "</div>, <div class=\"Comments__StyledComments-dzzyvm-0 gRjWel\">Very knowledgeable about the topic he teaches, however the lectures are relatively dry. There are two weeks left till the semester ends and he still hasn't graded a single thing like what the other reviews said. All group projects are randomized, you get new members for every project, so good luck if you get someone who doesn't contribute anything.</div>, <div class=\"Comments__StyledComments-dzzyvm-0 gRjWel\">He doesn't grade anything all semester, so you have no idea if you're even doing projects correctly. He says the class is designed for beginners, but the very first project is literally back-end game development that just feels overwhelming when learning about APIs. Semester long projects with group member rotation, useless lectures.</div>, <div class=\"Comments__StyledComments-dzzyvm-0 gRjWel\">All the negative reviews are coming from ppl who are expecting to cheat/google their way through a csdegree. If youre one of those ppl, dont take his class. IF you want to learn a lot about the subject, pay attention and participate in his lecture and discussion!</div>, <div class=\"Comments__StyledComments-dzzyvm-0 gRjWel\">He'll spend 2 hours of lecture responding to random questions posted on canvas and then 1 hour talking about concepts for the subject of that given week. He doesn't show you how to code, he just gives you links to documentation and you basically teach yourself the technologies. Projects are a lot of work, you could get unlucky with a bad group.</div>, <div class=\"Comments__StyledComments-dzzyvm-0 gRjWel\">He does not grade until the end of the semester, until then you have no idea what your grade will be. Only group projects built around one big project, final group was randomized for no reason.  He doesnt teach ANY code during lecture, only office hours (essential for projects).  Lectures are useless, better off learning from youtube. AVOID PLEASE.</div>, <div class=\"Comments__StyledComments-dzzyvm-0 gRjWel\">Nice guy. Explains concepts very clearly. If you stick with it &amp; work hard you'll be ok, but an A definitely isn't a given. You have to be extremely prepared in order to ace tests. I suggest looking up videos on concepts before lectures to better follow. It's a stressful class for some, but course is pretty fair besides that. Curves final grade</div>, <div class=\"Comments__StyledComments-dzzyvm-0 gRjWel\">If you're going to take him for 483 be prepared to study your ass off, missing one class might set you back a bit. He's a nice guy and knows the subject well but is extremely tough on grading both for projects and exams. If you're eager about the subject he's the right teacher, otherwise I wouldn't bother the stress.</div>, <div class=\"Comments__StyledComments-dzzyvm-0 gRjWel\">Avery is genuinely one of the best professors at CSUF. If you're the type of student who does the bare minimum and is googling most of their HW (you know who these people are) you'll have a rough time, but if you pay attention and takes notes and do the work/readings it's a pretty easy A.</div>, <div class=\"Comments__StyledComments-dzzyvm-0 gRjWel\">Machine learning is a DIFFICULT class. I think Avery does a good job at teaching the concepts but be prepared to do self study and maybe cry a bit. Sometimes his projects can be unclear and he takes a long time to grade things. You definitely don't want to miss classes if you can avoid it.</div>, <div class=\"Comments__StyledComments-dzzyvm-0 gRjWel\">The projects are hard to follow. You have to ask him to clarify some questions. The project is also worth 30% of your grade. He's a tough grader and the lecture is kind of boring and long. Too much info is being given in a 3hr class that it's hard to absorb all of the info. Doesn't help that he also does not share class recordings.</div>, <div class=\"Comments__StyledComments-dzzyvm-0 gRjWel\">Even 1 is too high for him. Simply put, stay away from this professor. His class is the most boring one I've ever taken, and his instruction on projects is a disaster. He records the class but doesn't provide you with recordings...</div>, <div class=\"Comments__StyledComments-dzzyvm-0 gRjWel\">Avery is a great professor. The exams are conceptual so read the book and pay attention to the lectures. Group projects are made so that you will really learn so make sure you start early. He can come off as rude but he is always willing to help.</div>, <div class=\"Comments__StyledComments-dzzyvm-0 gRjWel\">Professor Avery is the BEST professor at CSUF. This man knows his sh*t inside and out. He does a GREAT job of explaining concepts. The negative reviews are from those who failed because they didn't put in the work. Avery is a fair grader and will always help you outside of class. I would take him for EVERY class if I could. Best professor ever.</div>, <div class=\"Comments__StyledComments-dzzyvm-0 gRjWel\">He teaches well! After attending his class, the textbook gets easy to read. He gives real-world knowledge!</div>, <div class=\"Comments__StyledComments-dzzyvm-0 gRjWel\">Kenytt is probably the best professor at CSUF. That's not a hard feat to accomplish - especially in the CS department here, but nevertheless i think he is a great teacher. He teaches well, and makes you work for it. It's how I imagined a proper college course would go. I respect him a lot. He can be rude at times but that's just how he is.</div>, <div class=\"Comments__StyledComments-dzzyvm-0 gRjWel\">He is a knowledgeable professor in the Machine learning field. He teaches stuff in lecture time. You can learn something from his classes. He assigns the projects in detail and with helpful links on somewhere setup things. All your time will be saved to do your project instead of figuring out new software. You need a lot of deep reading.</div>]\n",
            "[<div class=\"Comments__StyledComments-dzzyvm-0 gRjWel\">He teaches NOTHING during lecture, no code, no helpful lecture. Not Grading for the whole semester and he'll grade it after final project. Member of project are random. Project 1 is at almost first half semester, and Project 2,3,4 are on the last month of semester WHYY. Please AVOID at all COST and don't believe in positive review.</div>, <div class=\"Comments__StyledComments-dzzyvm-0 gRjWel\">One of the best professors at csuf for cs department in my opinion. Just make sure to keep up with the learning material and don't miss any assignments because they build on top of each other concept wise. </div>, <div class=\"Comments__StyledComments-dzzyvm-0 gRjWel\">He didn't grade for a long time. The greatest challenge is trying to figure out how his notes apply to the assignment.\n",
            "</div>, <div class=\"Comments__StyledComments-dzzyvm-0 gRjWel\">He does not grade until the end of the semester, until then you have no idea what your grade will be. Only group projects built around one big project, final group was randomized for no reason. He doesnt teach ANY code during lecture, only office hours (essential for projects). Lectures are useless, better off learning from youtube. AVOID PLEASE.\n",
            "</div>, <div class=\"Comments__StyledComments-dzzyvm-0 gRjWel\">Very knowledgeable about the topic he teaches, however the lectures are relatively dry. There are two weeks left till the semester ends and he still hasn't graded a single thing like what the other reviews said. All group projects are randomized, you get new members for every project, so good luck if you get someone who doesn't contribute anything.</div>, <div class=\"Comments__StyledComments-dzzyvm-0 gRjWel\">He doesn't grade anything all semester, so you have no idea if you're even doing projects correctly. He says the class is designed for beginners, but the very first project is literally back-end game development that just feels overwhelming when learning about APIs. Semester long projects with group member rotation, useless lectures.</div>, <div class=\"Comments__StyledComments-dzzyvm-0 gRjWel\">All the negative reviews are coming from ppl who are expecting to cheat/google their way through a csdegree. If youre one of those ppl, dont take his class. IF you want to learn a lot about the subject, pay attention and participate in his lecture and discussion!</div>, <div class=\"Comments__StyledComments-dzzyvm-0 gRjWel\">He'll spend 2 hours of lecture responding to random questions posted on canvas and then 1 hour talking about concepts for the subject of that given week. He doesn't show you how to code, he just gives you links to documentation and you basically teach yourself the technologies. Projects are a lot of work, you could get unlucky with a bad group.</div>, <div class=\"Comments__StyledComments-dzzyvm-0 gRjWel\">He does not grade until the end of the semester, until then you have no idea what your grade will be. Only group projects built around one big project, final group was randomized for no reason.  He doesnt teach ANY code during lecture, only office hours (essential for projects).  Lectures are useless, better off learning from youtube. AVOID PLEASE.</div>, <div class=\"Comments__StyledComments-dzzyvm-0 gRjWel\">Nice guy. Explains concepts very clearly. If you stick with it &amp; work hard you'll be ok, but an A definitely isn't a given. You have to be extremely prepared in order to ace tests. I suggest looking up videos on concepts before lectures to better follow. It's a stressful class for some, but course is pretty fair besides that. Curves final grade</div>, <div class=\"Comments__StyledComments-dzzyvm-0 gRjWel\">If you're going to take him for 483 be prepared to study your ass off, missing one class might set you back a bit. He's a nice guy and knows the subject well but is extremely tough on grading both for projects and exams. If you're eager about the subject he's the right teacher, otherwise I wouldn't bother the stress.</div>, <div class=\"Comments__StyledComments-dzzyvm-0 gRjWel\">Avery is genuinely one of the best professors at CSUF. If you're the type of student who does the bare minimum and is googling most of their HW (you know who these people are) you'll have a rough time, but if you pay attention and takes notes and do the work/readings it's a pretty easy A.</div>, <div class=\"Comments__StyledComments-dzzyvm-0 gRjWel\">Machine learning is a DIFFICULT class. I think Avery does a good job at teaching the concepts but be prepared to do self study and maybe cry a bit. Sometimes his projects can be unclear and he takes a long time to grade things. You definitely don't want to miss classes if you can avoid it.</div>, <div class=\"Comments__StyledComments-dzzyvm-0 gRjWel\">The projects are hard to follow. You have to ask him to clarify some questions. The project is also worth 30% of your grade. He's a tough grader and the lecture is kind of boring and long. Too much info is being given in a 3hr class that it's hard to absorb all of the info. Doesn't help that he also does not share class recordings.</div>, <div class=\"Comments__StyledComments-dzzyvm-0 gRjWel\">Even 1 is too high for him. Simply put, stay away from this professor. His class is the most boring one I've ever taken, and his instruction on projects is a disaster. He records the class but doesn't provide you with recordings...</div>, <div class=\"Comments__StyledComments-dzzyvm-0 gRjWel\">Avery is a great professor. The exams are conceptual so read the book and pay attention to the lectures. Group projects are made so that you will really learn so make sure you start early. He can come off as rude but he is always willing to help.</div>, <div class=\"Comments__StyledComments-dzzyvm-0 gRjWel\">Professor Avery is the BEST professor at CSUF. This man knows his sh*t inside and out. He does a GREAT job of explaining concepts. The negative reviews are from those who failed because they didn't put in the work. Avery is a fair grader and will always help you outside of class. I would take him for EVERY class if I could. Best professor ever.</div>, <div class=\"Comments__StyledComments-dzzyvm-0 gRjWel\">He teaches well! After attending his class, the textbook gets easy to read. He gives real-world knowledge!</div>, <div class=\"Comments__StyledComments-dzzyvm-0 gRjWel\">Kenytt is probably the best professor at CSUF. That's not a hard feat to accomplish - especially in the CS department here, but nevertheless i think he is a great teacher. He teaches well, and makes you work for it. It's how I imagined a proper college course would go. I respect him a lot. He can be rude at times but that's just how he is.</div>, <div class=\"Comments__StyledComments-dzzyvm-0 gRjWel\">He is a knowledgeable professor in the Machine learning field. He teaches stuff in lecture time. You can learn something from his classes. He assigns the projects in detail and with helpful links on somewhere setup things. All your time will be saved to do your project instead of figuring out new software. You need a lot of deep reading.</div>]\n",
            "[<div class=\"Comments__StyledComments-dzzyvm-0 gRjWel\">He teaches NOTHING during lecture, no code, no helpful lecture. Not Grading for the whole semester and he'll grade it after final project. Member of project are random. Project 1 is at almost first half semester, and Project 2,3,4 are on the last month of semester WHYY. Please AVOID at all COST and don't believe in positive review.</div>, <div class=\"Comments__StyledComments-dzzyvm-0 gRjWel\">One of the best professors at csuf for cs department in my opinion. Just make sure to keep up with the learning material and don't miss any assignments because they build on top of each other concept wise. </div>, <div class=\"Comments__StyledComments-dzzyvm-0 gRjWel\">He didn't grade for a long time. The greatest challenge is trying to figure out how his notes apply to the assignment.\n",
            "</div>, <div class=\"Comments__StyledComments-dzzyvm-0 gRjWel\">He does not grade until the end of the semester, until then you have no idea what your grade will be. Only group projects built around one big project, final group was randomized for no reason. He doesnt teach ANY code during lecture, only office hours (essential for projects). Lectures are useless, better off learning from youtube. AVOID PLEASE.\n",
            "</div>, <div class=\"Comments__StyledComments-dzzyvm-0 gRjWel\">Very knowledgeable about the topic he teaches, however the lectures are relatively dry. There are two weeks left till the semester ends and he still hasn't graded a single thing like what the other reviews said. All group projects are randomized, you get new members for every project, so good luck if you get someone who doesn't contribute anything.</div>, <div class=\"Comments__StyledComments-dzzyvm-0 gRjWel\">He doesn't grade anything all semester, so you have no idea if you're even doing projects correctly. He says the class is designed for beginners, but the very first project is literally back-end game development that just feels overwhelming when learning about APIs. Semester long projects with group member rotation, useless lectures.</div>, <div class=\"Comments__StyledComments-dzzyvm-0 gRjWel\">All the negative reviews are coming from ppl who are expecting to cheat/google their way through a csdegree. If youre one of those ppl, dont take his class. IF you want to learn a lot about the subject, pay attention and participate in his lecture and discussion!</div>, <div class=\"Comments__StyledComments-dzzyvm-0 gRjWel\">He'll spend 2 hours of lecture responding to random questions posted on canvas and then 1 hour talking about concepts for the subject of that given week. He doesn't show you how to code, he just gives you links to documentation and you basically teach yourself the technologies. Projects are a lot of work, you could get unlucky with a bad group.</div>, <div class=\"Comments__StyledComments-dzzyvm-0 gRjWel\">He does not grade until the end of the semester, until then you have no idea what your grade will be. Only group projects built around one big project, final group was randomized for no reason.  He doesnt teach ANY code during lecture, only office hours (essential for projects).  Lectures are useless, better off learning from youtube. AVOID PLEASE.</div>, <div class=\"Comments__StyledComments-dzzyvm-0 gRjWel\">Nice guy. Explains concepts very clearly. If you stick with it &amp; work hard you'll be ok, but an A definitely isn't a given. You have to be extremely prepared in order to ace tests. I suggest looking up videos on concepts before lectures to better follow. It's a stressful class for some, but course is pretty fair besides that. Curves final grade</div>, <div class=\"Comments__StyledComments-dzzyvm-0 gRjWel\">If you're going to take him for 483 be prepared to study your ass off, missing one class might set you back a bit. He's a nice guy and knows the subject well but is extremely tough on grading both for projects and exams. If you're eager about the subject he's the right teacher, otherwise I wouldn't bother the stress.</div>, <div class=\"Comments__StyledComments-dzzyvm-0 gRjWel\">Avery is genuinely one of the best professors at CSUF. If you're the type of student who does the bare minimum and is googling most of their HW (you know who these people are) you'll have a rough time, but if you pay attention and takes notes and do the work/readings it's a pretty easy A.</div>, <div class=\"Comments__StyledComments-dzzyvm-0 gRjWel\">Machine learning is a DIFFICULT class. I think Avery does a good job at teaching the concepts but be prepared to do self study and maybe cry a bit. Sometimes his projects can be unclear and he takes a long time to grade things. You definitely don't want to miss classes if you can avoid it.</div>, <div class=\"Comments__StyledComments-dzzyvm-0 gRjWel\">The projects are hard to follow. You have to ask him to clarify some questions. The project is also worth 30% of your grade. He's a tough grader and the lecture is kind of boring and long. Too much info is being given in a 3hr class that it's hard to absorb all of the info. Doesn't help that he also does not share class recordings.</div>, <div class=\"Comments__StyledComments-dzzyvm-0 gRjWel\">Even 1 is too high for him. Simply put, stay away from this professor. His class is the most boring one I've ever taken, and his instruction on projects is a disaster. He records the class but doesn't provide you with recordings...</div>, <div class=\"Comments__StyledComments-dzzyvm-0 gRjWel\">Avery is a great professor. The exams are conceptual so read the book and pay attention to the lectures. Group projects are made so that you will really learn so make sure you start early. He can come off as rude but he is always willing to help.</div>, <div class=\"Comments__StyledComments-dzzyvm-0 gRjWel\">Professor Avery is the BEST professor at CSUF. This man knows his sh*t inside and out. He does a GREAT job of explaining concepts. The negative reviews are from those who failed because they didn't put in the work. Avery is a fair grader and will always help you outside of class. I would take him for EVERY class if I could. Best professor ever.</div>, <div class=\"Comments__StyledComments-dzzyvm-0 gRjWel\">He teaches well! After attending his class, the textbook gets easy to read. He gives real-world knowledge!</div>, <div class=\"Comments__StyledComments-dzzyvm-0 gRjWel\">Kenytt is probably the best professor at CSUF. That's not a hard feat to accomplish - especially in the CS department here, but nevertheless i think he is a great teacher. He teaches well, and makes you work for it. It's how I imagined a proper college course would go. I respect him a lot. He can be rude at times but that's just how he is.</div>, <div class=\"Comments__StyledComments-dzzyvm-0 gRjWel\">He is a knowledgeable professor in the Machine learning field. He teaches stuff in lecture time. You can learn something from his classes. He assigns the projects in detail and with helpful links on somewhere setup things. All your time will be saved to do your project instead of figuring out new software. You need a lot of deep reading.</div>]\n",
            "[<div class=\"Comments__StyledComments-dzzyvm-0 gRjWel\">He teaches NOTHING during lecture, no code, no helpful lecture. Not Grading for the whole semester and he'll grade it after final project. Member of project are random. Project 1 is at almost first half semester, and Project 2,3,4 are on the last month of semester WHYY. Please AVOID at all COST and don't believe in positive review.</div>, <div class=\"Comments__StyledComments-dzzyvm-0 gRjWel\">One of the best professors at csuf for cs department in my opinion. Just make sure to keep up with the learning material and don't miss any assignments because they build on top of each other concept wise. </div>, <div class=\"Comments__StyledComments-dzzyvm-0 gRjWel\">He didn't grade for a long time. The greatest challenge is trying to figure out how his notes apply to the assignment.\n",
            "</div>, <div class=\"Comments__StyledComments-dzzyvm-0 gRjWel\">He does not grade until the end of the semester, until then you have no idea what your grade will be. Only group projects built around one big project, final group was randomized for no reason. He doesnt teach ANY code during lecture, only office hours (essential for projects). Lectures are useless, better off learning from youtube. AVOID PLEASE.\n",
            "</div>, <div class=\"Comments__StyledComments-dzzyvm-0 gRjWel\">Very knowledgeable about the topic he teaches, however the lectures are relatively dry. There are two weeks left till the semester ends and he still hasn't graded a single thing like what the other reviews said. All group projects are randomized, you get new members for every project, so good luck if you get someone who doesn't contribute anything.</div>, <div class=\"Comments__StyledComments-dzzyvm-0 gRjWel\">He doesn't grade anything all semester, so you have no idea if you're even doing projects correctly. He says the class is designed for beginners, but the very first project is literally back-end game development that just feels overwhelming when learning about APIs. Semester long projects with group member rotation, useless lectures.</div>, <div class=\"Comments__StyledComments-dzzyvm-0 gRjWel\">All the negative reviews are coming from ppl who are expecting to cheat/google their way through a csdegree. If youre one of those ppl, dont take his class. IF you want to learn a lot about the subject, pay attention and participate in his lecture and discussion!</div>, <div class=\"Comments__StyledComments-dzzyvm-0 gRjWel\">He'll spend 2 hours of lecture responding to random questions posted on canvas and then 1 hour talking about concepts for the subject of that given week. He doesn't show you how to code, he just gives you links to documentation and you basically teach yourself the technologies. Projects are a lot of work, you could get unlucky with a bad group.</div>, <div class=\"Comments__StyledComments-dzzyvm-0 gRjWel\">He does not grade until the end of the semester, until then you have no idea what your grade will be. Only group projects built around one big project, final group was randomized for no reason.  He doesnt teach ANY code during lecture, only office hours (essential for projects).  Lectures are useless, better off learning from youtube. AVOID PLEASE.</div>, <div class=\"Comments__StyledComments-dzzyvm-0 gRjWel\">Nice guy. Explains concepts very clearly. If you stick with it &amp; work hard you'll be ok, but an A definitely isn't a given. You have to be extremely prepared in order to ace tests. I suggest looking up videos on concepts before lectures to better follow. It's a stressful class for some, but course is pretty fair besides that. Curves final grade</div>, <div class=\"Comments__StyledComments-dzzyvm-0 gRjWel\">If you're going to take him for 483 be prepared to study your ass off, missing one class might set you back a bit. He's a nice guy and knows the subject well but is extremely tough on grading both for projects and exams. If you're eager about the subject he's the right teacher, otherwise I wouldn't bother the stress.</div>, <div class=\"Comments__StyledComments-dzzyvm-0 gRjWel\">Avery is genuinely one of the best professors at CSUF. If you're the type of student who does the bare minimum and is googling most of their HW (you know who these people are) you'll have a rough time, but if you pay attention and takes notes and do the work/readings it's a pretty easy A.</div>, <div class=\"Comments__StyledComments-dzzyvm-0 gRjWel\">Machine learning is a DIFFICULT class. I think Avery does a good job at teaching the concepts but be prepared to do self study and maybe cry a bit. Sometimes his projects can be unclear and he takes a long time to grade things. You definitely don't want to miss classes if you can avoid it.</div>, <div class=\"Comments__StyledComments-dzzyvm-0 gRjWel\">The projects are hard to follow. You have to ask him to clarify some questions. The project is also worth 30% of your grade. He's a tough grader and the lecture is kind of boring and long. Too much info is being given in a 3hr class that it's hard to absorb all of the info. Doesn't help that he also does not share class recordings.</div>, <div class=\"Comments__StyledComments-dzzyvm-0 gRjWel\">Even 1 is too high for him. Simply put, stay away from this professor. His class is the most boring one I've ever taken, and his instruction on projects is a disaster. He records the class but doesn't provide you with recordings...</div>, <div class=\"Comments__StyledComments-dzzyvm-0 gRjWel\">Avery is a great professor. The exams are conceptual so read the book and pay attention to the lectures. Group projects are made so that you will really learn so make sure you start early. He can come off as rude but he is always willing to help.</div>, <div class=\"Comments__StyledComments-dzzyvm-0 gRjWel\">Professor Avery is the BEST professor at CSUF. This man knows his sh*t inside and out. He does a GREAT job of explaining concepts. The negative reviews are from those who failed because they didn't put in the work. Avery is a fair grader and will always help you outside of class. I would take him for EVERY class if I could. Best professor ever.</div>, <div class=\"Comments__StyledComments-dzzyvm-0 gRjWel\">He teaches well! After attending his class, the textbook gets easy to read. He gives real-world knowledge!</div>, <div class=\"Comments__StyledComments-dzzyvm-0 gRjWel\">Kenytt is probably the best professor at CSUF. That's not a hard feat to accomplish - especially in the CS department here, but nevertheless i think he is a great teacher. He teaches well, and makes you work for it. It's how I imagined a proper college course would go. I respect him a lot. He can be rude at times but that's just how he is.</div>, <div class=\"Comments__StyledComments-dzzyvm-0 gRjWel\">He is a knowledgeable professor in the Machine learning field. He teaches stuff in lecture time. You can learn something from his classes. He assigns the projects in detail and with helpful links on somewhere setup things. All your time will be saved to do your project instead of figuring out new software. You need a lot of deep reading.</div>]\n",
            "[<div class=\"Comments__StyledComments-dzzyvm-0 gRjWel\">He teaches NOTHING during lecture, no code, no helpful lecture. Not Grading for the whole semester and he'll grade it after final project. Member of project are random. Project 1 is at almost first half semester, and Project 2,3,4 are on the last month of semester WHYY. Please AVOID at all COST and don't believe in positive review.</div>, <div class=\"Comments__StyledComments-dzzyvm-0 gRjWel\">One of the best professors at csuf for cs department in my opinion. Just make sure to keep up with the learning material and don't miss any assignments because they build on top of each other concept wise. </div>, <div class=\"Comments__StyledComments-dzzyvm-0 gRjWel\">He didn't grade for a long time. The greatest challenge is trying to figure out how his notes apply to the assignment.\n",
            "</div>, <div class=\"Comments__StyledComments-dzzyvm-0 gRjWel\">He does not grade until the end of the semester, until then you have no idea what your grade will be. Only group projects built around one big project, final group was randomized for no reason. He doesnt teach ANY code during lecture, only office hours (essential for projects). Lectures are useless, better off learning from youtube. AVOID PLEASE.\n",
            "</div>, <div class=\"Comments__StyledComments-dzzyvm-0 gRjWel\">Very knowledgeable about the topic he teaches, however the lectures are relatively dry. There are two weeks left till the semester ends and he still hasn't graded a single thing like what the other reviews said. All group projects are randomized, you get new members for every project, so good luck if you get someone who doesn't contribute anything.</div>, <div class=\"Comments__StyledComments-dzzyvm-0 gRjWel\">He doesn't grade anything all semester, so you have no idea if you're even doing projects correctly. He says the class is designed for beginners, but the very first project is literally back-end game development that just feels overwhelming when learning about APIs. Semester long projects with group member rotation, useless lectures.</div>, <div class=\"Comments__StyledComments-dzzyvm-0 gRjWel\">All the negative reviews are coming from ppl who are expecting to cheat/google their way through a csdegree. If youre one of those ppl, dont take his class. IF you want to learn a lot about the subject, pay attention and participate in his lecture and discussion!</div>, <div class=\"Comments__StyledComments-dzzyvm-0 gRjWel\">He'll spend 2 hours of lecture responding to random questions posted on canvas and then 1 hour talking about concepts for the subject of that given week. He doesn't show you how to code, he just gives you links to documentation and you basically teach yourself the technologies. Projects are a lot of work, you could get unlucky with a bad group.</div>, <div class=\"Comments__StyledComments-dzzyvm-0 gRjWel\">He does not grade until the end of the semester, until then you have no idea what your grade will be. Only group projects built around one big project, final group was randomized for no reason.  He doesnt teach ANY code during lecture, only office hours (essential for projects).  Lectures are useless, better off learning from youtube. AVOID PLEASE.</div>, <div class=\"Comments__StyledComments-dzzyvm-0 gRjWel\">Nice guy. Explains concepts very clearly. If you stick with it &amp; work hard you'll be ok, but an A definitely isn't a given. You have to be extremely prepared in order to ace tests. I suggest looking up videos on concepts before lectures to better follow. It's a stressful class for some, but course is pretty fair besides that. Curves final grade</div>, <div class=\"Comments__StyledComments-dzzyvm-0 gRjWel\">If you're going to take him for 483 be prepared to study your ass off, missing one class might set you back a bit. He's a nice guy and knows the subject well but is extremely tough on grading both for projects and exams. If you're eager about the subject he's the right teacher, otherwise I wouldn't bother the stress.</div>, <div class=\"Comments__StyledComments-dzzyvm-0 gRjWel\">Avery is genuinely one of the best professors at CSUF. If you're the type of student who does the bare minimum and is googling most of their HW (you know who these people are) you'll have a rough time, but if you pay attention and takes notes and do the work/readings it's a pretty easy A.</div>, <div class=\"Comments__StyledComments-dzzyvm-0 gRjWel\">Machine learning is a DIFFICULT class. I think Avery does a good job at teaching the concepts but be prepared to do self study and maybe cry a bit. Sometimes his projects can be unclear and he takes a long time to grade things. You definitely don't want to miss classes if you can avoid it.</div>, <div class=\"Comments__StyledComments-dzzyvm-0 gRjWel\">The projects are hard to follow. You have to ask him to clarify some questions. The project is also worth 30% of your grade. He's a tough grader and the lecture is kind of boring and long. Too much info is being given in a 3hr class that it's hard to absorb all of the info. Doesn't help that he also does not share class recordings.</div>, <div class=\"Comments__StyledComments-dzzyvm-0 gRjWel\">Even 1 is too high for him. Simply put, stay away from this professor. His class is the most boring one I've ever taken, and his instruction on projects is a disaster. He records the class but doesn't provide you with recordings...</div>, <div class=\"Comments__StyledComments-dzzyvm-0 gRjWel\">Avery is a great professor. The exams are conceptual so read the book and pay attention to the lectures. Group projects are made so that you will really learn so make sure you start early. He can come off as rude but he is always willing to help.</div>, <div class=\"Comments__StyledComments-dzzyvm-0 gRjWel\">Professor Avery is the BEST professor at CSUF. This man knows his sh*t inside and out. He does a GREAT job of explaining concepts. The negative reviews are from those who failed because they didn't put in the work. Avery is a fair grader and will always help you outside of class. I would take him for EVERY class if I could. Best professor ever.</div>, <div class=\"Comments__StyledComments-dzzyvm-0 gRjWel\">He teaches well! After attending his class, the textbook gets easy to read. He gives real-world knowledge!</div>, <div class=\"Comments__StyledComments-dzzyvm-0 gRjWel\">Kenytt is probably the best professor at CSUF. That's not a hard feat to accomplish - especially in the CS department here, but nevertheless i think he is a great teacher. He teaches well, and makes you work for it. It's how I imagined a proper college course would go. I respect him a lot. He can be rude at times but that's just how he is.</div>, <div class=\"Comments__StyledComments-dzzyvm-0 gRjWel\">He is a knowledgeable professor in the Machine learning field. He teaches stuff in lecture time. You can learn something from his classes. He assigns the projects in detail and with helpful links on somewhere setup things. All your time will be saved to do your project instead of figuring out new software. You need a lot of deep reading.</div>]\n"
          ]
        }
      ]
    }
  ]
}